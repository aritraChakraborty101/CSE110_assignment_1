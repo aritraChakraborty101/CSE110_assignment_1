{
  "nbformat": 4,
  "nbformat_minor": 0,
  "metadata": {
    "kernelspec": {
      "display_name": "Python 3",
      "language": "python",
      "name": "python3"
    },
    "language_info": {
      "codemirror_mode": {
        "name": "ipython",
        "version": 3
      },
      "file_extension": ".py",
      "mimetype": "text/x-python",
      "name": "python",
      "nbconvert_exporter": "python",
      "pygments_lexer": "ipython3",
      "version": "3.7.6"
    },
    "colab": {
      "provenance": [],
      "include_colab_link": true
    }
  },
  "cells": [
    {
      "cell_type": "markdown",
      "metadata": {
        "id": "view-in-github",
        "colab_type": "text"
      },
      "source": [
        "<a href=\"https://colab.research.google.com/github/aritraChakraborty101/CSE110_assignment_1/blob/main/CSE110Assignment3_Loop.ipynb\" target=\"_parent\"><img src=\"https://colab.research.google.com/assets/colab-badge.svg\" alt=\"Open In Colab\"/></a>"
      ]
    },
    {
      "cell_type": "markdown",
      "metadata": {
        "id": "xDNsncrtU1yM"
      },
      "source": [
        "# CSE110 Lab Assignment 3 (String)\n",
        "\n",
        "This Assignment is to help you develop your concept of Strings in Python.\n",
        "\n",
        "**<font color='red'>[Please follow variable naming conventions including using meaningful variable names for all the tasks]</font>**\\\n",
        "<font color='red'>When you run your code, please make sure your outputs exactly match the sample outputs for each of the sample inputs given. Check if your code works for other valid inputs not given in the samples.</font>\n",
        "\n",
        "## Write the code in Python to do the following tasks:"
      ]
    },
    {
      "cell_type": "code",
      "metadata": {
        "id": "OAYfzLIqgqyE"
      },
      "source": [
        "#Write your name, student ID and theory section number below:\n",
        "#Student Name: Aritra Chakraborty \n",
        "#Student ID: 22101892\n",
        "#CSE110 Theory Section No: 37"
      ],
      "execution_count": null,
      "outputs": []
    },
    {
      "cell_type": "markdown",
      "source": [
        "### Task 1 \n",
        "\n",
        "Write a Python program that takes a String as an input from the user and prints that String in **reverse** order.\n",
        "\n",
        "**<font color='red'>You cannot use the built-in reverse() function for this task.**\n",
        "\n",
        "=====================================================================\n",
        " \n",
        "**Sample Input 1:**\\\n",
        " CSE110\n",
        "\n",
        "**Sample Output 1:**\\\n",
        " 011ESC\n",
        " \n",
        "=====================================================================\n",
        "\n",
        "**Sample Input 2:**\\\n",
        "Python \n",
        "\n",
        "**Sample Output 2:**\\\n",
        "nohtyP\n",
        "\n",
        "=====================================================================\n",
        "\n",
        "**Sample Input 3:**\\\n",
        "1576527  \n",
        "\n",
        "**Sample Output 3:**\\\n",
        "7256751\n",
        "\n",
        "====================================================================="
      ],
      "metadata": {
        "id": "5bNoypiTBWqt"
      }
    },
    {
      "cell_type": "code",
      "source": [
        "#todo\n",
        "inp = input(\"Enter your string \")\n",
        "reverse_inp=\"\"\n",
        "\n",
        "for i in range(len(inp)-1,-1,-1):\n",
        "  reverse_inp+= inp[i]\n",
        "  \n",
        "print(reverse_inp)"
      ],
      "metadata": {
        "id": "k8uIngEeCI3T",
        "colab": {
          "base_uri": "https://localhost:8080/"
        },
        "outputId": "ff8746a6-fec3-43dc-b1f3-f314db523f38"
      },
      "execution_count": null,
      "outputs": [
        {
          "output_type": "stream",
          "name": "stdout",
          "text": [
            "Enter your string 1234\n",
            "4321\n"
          ]
        }
      ]
    },
    {
      "cell_type": "markdown",
      "metadata": {
        "id": "4zI6tmFN0i4y"
      },
      "source": [
        "### Task 2\n",
        "\n",
        "Write a python program that takes 2 inputs from the user, where the first input is a string with length greater than 1. The second input is the index of the first given string from where you have to start reversing. After reversing the first input string from that index, print the new string back to the user. See samples below for clarification.\n",
        "\n",
        "=====================================================================\n",
        "\n",
        "**Sample Input 1:**\n",
        "\n",
        "72418\n",
        "\n",
        "4\n",
        "\n",
        "**Sample Output 1:**\n",
        "\n",
        "81427\n",
        "\n",
        "\n",
        "**Explanation**: Our second input, index '4' is the last index of our first input String '72418', hence the entire string is reversed giving us '81427'.\n",
        "\n",
        "=====================================================================\n",
        "\n",
        "**Sample Input 2:**\n",
        "\n",
        "12345 \n",
        "\n",
        "2\n",
        "\n",
        "**Sample Output 2:**\n",
        "\n",
        "32145\n",
        "\n",
        "**Explanation**: The second input is '2' so we have to reverse from index 2 of our first input. The 2nd index of our first input String is '3', index 1 is '2' and index 0 is '1'. Hence, if we reverse indexes 0 to 2, we get '321'. Index 3 and 4 which is '4' and '5' respectively remains unchanged hence our final output is '32145'.\n",
        "\n",
        "=====================================================================\n",
        "\n",
        "**Sample Input 3:**\n",
        "\n",
        "aBcd1234defg\n",
        "\n",
        "5\n",
        "\n",
        "**Sample Output 3:**\n",
        "\n",
        "21dcBa34defg\n",
        "\n",
        "**Explanation**: From our first input String 'aBcd1234defg', \n",
        "\n",
        "index 0 = 'a'\n",
        "\n",
        "index 1 = 'B'\n",
        "\n",
        "index 2 = 'c'\n",
        "\n",
        "index 3 = 'd'\n",
        "\n",
        "index 4 = '1'\n",
        "\n",
        "index 5 = '2'\n",
        "\n",
        "index 6 = '3'\n",
        "\n",
        "Since our second input is 5, index 0 to index 5 is reversed and we have '21dcBa' and the rest is unchanged from indexes 6 to 11 ('34defg'). Therefore, we have '21dcBa34defg' finally.\n",
        "\n",
        "=====================================================================\n"
      ]
    },
    {
      "cell_type": "code",
      "source": [
        "#todo\n",
        "inp_str=input(\"Enter your string \")\n",
        "index_num=int(input(\"Enter from where you would like to reverse \"))\n",
        "\n",
        "new_str=\"\"\n",
        "if len(inp_str) > 1:\n",
        "  for i in range(index_num,-1,-1):\n",
        "    new_str +=inp_str[i]\n",
        "  for i in range(index_num+1,len(inp_str)):\n",
        "    new_str+=inp_str[i]\n",
        "\n",
        "else:\n",
        "  print(\"Not valid\")\n",
        "print(new_str)"
      ],
      "metadata": {
        "id": "b5-ePuUsCn9p"
      },
      "execution_count": null,
      "outputs": []
    },
    {
      "cell_type": "markdown",
      "source": [
        "### Task 3\n",
        "Write a program that takes a **string** as input and prints “Binary Number” if the string contains only 0s or 1s. Otherwise, print “Not a Binary Number”.\n",
        "\n",
        "=====================================================================\n",
        " \n",
        "**Sample Input 1:**\\\n",
        "01101101101\n",
        "\n",
        "**Sample Output 1:**\\\n",
        "Binary Number\n",
        "\n",
        "=====================================================================\n",
        "\n",
        "**Sample Input 2:**\\\n",
        "12344ab0\n",
        "\n",
        "**Sample Output 2:**\\\n",
        "Not a Binary Number\n",
        "\n",
        "=====================================================================\n",
        "\n",
        "**Sample Input 3:**\\\n",
        "10127490111\n",
        "\n",
        "**Sample Output 3:**\\\n",
        "Not a Binary Number\n",
        "\n",
        "=====================================================================\n",
        "\n",
        "**Sample Input 4:**\\\n",
        "Binary Number\n",
        "\n",
        "**Sample Output 4:**\\\n",
        "Not a Binary Number\n",
        "\n",
        "====================================================================="
      ],
      "metadata": {
        "id": "pkTyiploC6gC"
      }
    },
    {
      "cell_type": "code",
      "source": [
        "inp=input(\"Enter your number \")\n",
        "binary=\"\"\n",
        "count=0\n",
        "\n",
        "for i in range(0,len(inp)):\n",
        "  binary = inp[i]\n",
        "  if binary == '0' or binary == '1':\n",
        "    count+=1\n",
        "if count == len(inp):\n",
        "  print(\"Binary\")\n",
        "else:\n",
        "  print(\"Not binary\")\n",
        "\n",
        "  "
      ],
      "metadata": {
        "colab": {
          "base_uri": "https://localhost:8080/"
        },
        "id": "5W3CkGCHUgBe",
        "outputId": "3dad1ac6-8aac-4cf7-ba9c-f9874c0d4c0c"
      },
      "execution_count": null,
      "outputs": [
        {
          "output_type": "stream",
          "name": "stdout",
          "text": [
            "Enter your number 01010101\n",
            "Binary\n"
          ]
        }
      ]
    },
    {
      "cell_type": "code",
      "source": [
        "inp=input(\"Enter your number \")\n",
        "binary=\"\"\n",
        "count=0\n",
        "\n",
        "for i in range(0,len(inp)):\n",
        "  binary = inp[i]\n",
        "  if binary == '0' or binary == '1':\n",
        "if count == len(inp):\n",
        "  print(\"Binary\")\n",
        "else:\n",
        "  print(\"Not binary\")"
      ],
      "metadata": {
        "id": "9lDzHCKczXZJ"
      },
      "execution_count": null,
      "outputs": []
    },
    {
      "cell_type": "markdown",
      "metadata": {
        "id": "pbdeIVcyU1yi"
      },
      "source": [
        "### Task 4\n",
        "\n",
        "Write a Python program that will ask the user to enter a  word as an input. \n",
        "\n",
        "* If the length of the input string is less than 4, then your program should print the same string as an output. \n",
        "* If the input string’s length is greater than 3, then your program should add \"er\" at the end of the input string. \n",
        "* If the input string already ends with \"er\", then add \"est\" instead, regardless of the length of the input string\n",
        "* If the input string already ends with \"est\", then your program should print the same input string as an output.\n",
        "\n",
        "=====================================================================\n",
        "\n",
        "**Sample Input 1**:\\\n",
        "strong\n",
        "\n",
        "**Sample Output 1**:\\\n",
        "stronger\n",
        "\n",
        "**Explanation**: Length of input = 6, not less than 4, greater than 3, does not end with \"er\" or \"est\", therefore \"er\" is added making \"strong\", \"stronger\".\n",
        "\n",
        "=====================================================================\n",
        "\n",
        "**Sample Input 2**:\\\n",
        "stronger\n",
        "\n",
        "**Sample Output 2**:\\\n",
        "strongest\n",
        "\n",
        "**Explanation**: Input string ends with \"er\", therefore \"er\" is replaced with \"est\" instead so we have \"strongest\" from \"stronger\".\n",
        "\n",
        "=====================================================================\n",
        "\n",
        "**Sample Input 3**:\\\n",
        "strongest\n",
        "\n",
        "**Sample Output 3**:\\\n",
        "strongest\n",
        "\n",
        "**Explanation**: Our input here already ends with \"est\" so the same input i.e. \"strongest\" is printed.\n",
        "\n",
        "=====================================================================\n",
        "\n",
        "**Sample Input 4**:\\\n",
        "abc\n",
        "\n",
        "**Sample Output 4**:\\\n",
        "abc\n",
        "\n",
        "**Explanation**: Since length of input string is less than 4, the given input is printed as output.\n",
        "\n",
        "=====================================================================\n",
        "\n",
        "**Sample Input 5**:\\\n",
        "ber\n",
        "\n",
        "**Sample Output 5**:\\\n",
        "best\n",
        "\n",
        "**Explanation**: Although the length of the input string is 3 which is less than 4, but it ends with er so we ignore the length and replace \"er\" with \"est\" regardless.\n",
        "\n",
        "====================================================================="
      ]
    },
    {
      "cell_type": "code",
      "source": [
        "\n",
        "inp=input(\"Enter your word \")\n",
        "\n",
        "\n",
        "if \"est\" in inp:\n",
        "  print(inp)\n",
        "elif \"er\" in inp:\n",
        "  index=inp.index(\"er\")\n",
        "  new_inp= inp[0:index]+\"est\"\n",
        "  print(new_inp)\n",
        "  \n",
        "elif len(inp) > 3:\n",
        "  inp += \"er\"\n",
        "else:\n",
        "  print(inp)\n"
      ],
      "metadata": {
        "colab": {
          "base_uri": "https://localhost:8080/"
        },
        "id": "rHC98j2GtLJ7",
        "outputId": "c50eb9f2-40fc-4034-ccb3-5f6561f624d4"
      },
      "execution_count": null,
      "outputs": [
        {
          "output_type": "stream",
          "name": "stdout",
          "text": [
            "Enter your word berer\n",
            "best\n"
          ]
        }
      ]
    },
    {
      "cell_type": "code",
      "source": [],
      "metadata": {
        "id": "rR6VN_RE1ZZ-"
      },
      "execution_count": null,
      "outputs": []
    },
    {
      "cell_type": "markdown",
      "metadata": {
        "id": "KD4EKJf6U1yQ"
      },
      "source": [
        "\n",
        "### Task 5 \n",
        "\n",
        "Write a Python program that will ask the user to input a string (containing exactly one word). Then your program should print subsequent substrings of the given string as shown in the examples below.\n",
        "\n",
        "=====================================================================\n",
        "\n",
        "**Hints(1):** You may use \"for loop\" for this task.\n",
        "\n",
        "**Hints(2):** You may use print() function for printing newlines.\n",
        "\n",
        "For example:\\\n",
        "print(1)\\\n",
        "print(2)\n",
        "\n",
        "Output:\\\n",
        "1\\\n",
        "2\n",
        "\n",
        "=====================================================================\n",
        "\n",
        "We can use print(end = \"\") to skip printing the additional newline.\n",
        "\n",
        "For example:\\\n",
        "print(1, end =\"\")\\\n",
        "print(2)\n",
        "\n",
        "Output:(prints the following output right next to the previous one)\\\n",
        "12\n",
        "\n",
        "=====================================================================\n",
        "\n",
        "**Sample Input 1**:\\\n",
        "BANGLA\n",
        "\n",
        "**Sample Output 1**:\\\n",
        "B\\\n",
        "BA\\\n",
        "BAN\\\n",
        "BANG\\\n",
        "BANGL\\\n",
        "BANGLA\n",
        "\n",
        "**Explanation**: The length of the string is 6 so there are 6 lines where in each line a substring of the input string, of length equal to the line number is printed i.e. substring with only the letter \"B\" printed in the first line, substring \"BA\" of length 2 printed in the 2nd line, \"BAN\" length of which is 3 being printed in the 3rd line and so on.\n",
        "\n",
        "=====================================================================\n",
        "\n",
        "**Sample Input 2**:\\\n",
        "DREAM\n",
        "\n",
        "**Sample Output 2**:\\\n",
        "D\\\n",
        "DR\\\n",
        "DRE\\\n",
        "DREA\\\n",
        "DREAM\n",
        "\n",
        "**Explanation**: Simply, no of lines = length of the input string and no of letters in each line = line number.\n",
        "\n",
        "=====================================================================\n",
        "\n",
        "\n",
        "\n",
        "\n"
      ]
    },
    {
      "cell_type": "code",
      "metadata": {
        "id": "vJhpmj2XU1yR",
        "colab": {
          "base_uri": "https://localhost:8080/"
        },
        "outputId": "5051f6ee-d662-4d27-a2f8-6ac5150f7480"
      },
      "source": [
        "#todo\n",
        "inp = input(\"Enter \")\n",
        "new_inp=\"\"\n",
        "for  i in range(0,len(inp)):\n",
        "  new_inp += inp[i]\n",
        "  print(new_inp)\n"
      ],
      "execution_count": null,
      "outputs": [
        {
          "output_type": "stream",
          "name": "stdout",
          "text": [
            "Enter Bangladesh\n",
            "B\n",
            "Ba\n",
            "Ban\n",
            "Bang\n",
            "Bangl\n",
            "Bangla\n",
            "Banglad\n",
            "Banglade\n",
            "Banglades\n",
            "Bangladesh\n"
          ]
        }
      ]
    },
    {
      "cell_type": "markdown",
      "metadata": {
        "id": "PsBbgc4YU1yp"
      },
      "source": [
        "### Task 6\n",
        "\n",
        "Write a Python program that will ask the user to input a string (containing exactly one word). Then print the ASCII code for each character in the String using the ord() function. \n",
        "\n",
        "To check if your program is working correctly or not, you can find a list of all correct values from the following website. You may look at “Dec” and “Char” columns only and ignore the other columns for this problem.\\\n",
        "link: http://www.asciitable.com/\n",
        "\n",
        "=====================================================================\n",
        "\n",
        "**Sample Input 1**:\\\n",
        "Programming\n",
        "\n",
        "**Sample Output 1**:\\\n",
        "P : 80\\\n",
        "r : 114\\\n",
        "o : 111\\\n",
        "g : 103\\\n",
        "r : 114\\\n",
        "a : 97\\\n",
        "m : 109\\\n",
        "m : 109\\\n",
        "i : 105\\\n",
        "n : 110\\\n",
        "g : 103\n",
        "\n",
        "**Explanation**: Each line prints a letter sequentially from the given string and its corresponding ASCII value separated by \" : \".\n",
        "\n",
        "=====================================================================\n",
        "\n",
        "**Sample Input 2**:\\\n",
        "hunger\n",
        "\n",
        "**Sample Output 2**:\\\n",
        "h : 104\\\n",
        "u : 117\\\n",
        "n : 110\\\n",
        "g : 103\\\n",
        "e : 101\\\n",
        "r : 114 \n",
        "\n",
        "**Explanation**: Same as previous.\n",
        "\n",
        "====================================================================="
      ]
    },
    {
      "cell_type": "code",
      "metadata": {
        "id": "r8by7ONZU1ys",
        "colab": {
          "base_uri": "https://localhost:8080/"
        },
        "outputId": "f5f29a11-b63f-4313-9906-f58752830594"
      },
      "source": [
        "#todo\n",
        "inp= input(\"Enter your string \")\n",
        "for i in range(0,len(inp)):\n",
        "  word=inp[i]\n",
        "  ascii_code=ord(inp[i])\n",
        "  \n",
        "  print(f\"{word}:{ascii_code}\")\n",
        "\n"
      ],
      "execution_count": null,
      "outputs": [
        {
          "output_type": "stream",
          "name": "stdout",
          "text": [
            "Enter your string hunger\n",
            "h:104\n",
            "u:117\n",
            "n:110\n",
            "g:103\n",
            "e:101\n",
            "r:114\n"
          ]
        }
      ]
    },
    {
      "cell_type": "markdown",
      "metadata": {
        "id": "O8lIVppgU1yw"
      },
      "source": [
        "### Task 7\n",
        "\n",
        "Write a Python program that takes a string as an input from the user containing all small letters and then prints the next alphabet in sequence for each alphabet in the input.\n",
        "\n",
        "*Hint: You may need to use the functions ord() and chr(). The ASCII value of ‘a’ is 97 and ‘z’ is 122.*\n",
        "\n",
        "=====================================================================\n",
        "\n",
        "**Sample Input 1:**\\\n",
        "abcd\n",
        "\n",
        "**Sample Output 1:**\\\n",
        "bcde\n",
        "\n",
        "=====================================================================\n",
        "\n",
        "**Sample Input 2:**\\\n",
        "the cow\n",
        "\n",
        "**Sample Output 2:**\\\n",
        "uif!dpx\n",
        "\n",
        "=====================================================================\n",
        "\n",
        "<font color='red'>[Must fulfil this criteria]</font>\n",
        "\n",
        "**Sample Input 3:**\\\n",
        "xyzabc\n",
        "\n",
        "**Sample Output 3:**\\\n",
        "yzabcd\n",
        "\n",
        "=====================================================================\n"
      ]
    },
    {
      "cell_type": "code",
      "metadata": {
        "id": "Hyvy8WNNU1yx",
        "colab": {
          "base_uri": "https://localhost:8080/"
        },
        "outputId": "c2994438-2e68-4928-f27b-43b15ac8c72c"
      },
      "source": [
        "#Todo\n",
        "\n",
        "inp= input(\"Enter your word(IN LOWER CASE) \")\n",
        "new_inp=\"\"\n",
        "for i in range(0,len(inp)):\n",
        "  if ord(inp[i]) != 122:\n",
        "   ascii_value= ord(inp[i])+1\n",
        "   new_word=chr(ascii_value)\n",
        "   new_inp+=new_word\n",
        "  else:\n",
        "    ascii_value = 97\n",
        "    new_word=chr(ascii_value)\n",
        "    new_inp+=new_word\n",
        "\n",
        "print(new_inp)\n",
        "\n",
        "\n",
        "\n"
      ],
      "execution_count": null,
      "outputs": [
        {
          "output_type": "stream",
          "name": "stdout",
          "text": [
            "Enter your word(IN LOWER CASE) xyzabc\n",
            "yzabcd\n"
          ]
        }
      ]
    },
    {
      "cell_type": "markdown",
      "metadata": {
        "id": "ZrjtT-I_U1zD"
      },
      "source": [
        "### Task 8\n",
        "\n",
        "Write a Python program that takes a String as input from the user, removes the characters at even index and prints the resulting String in uppercase without using the built-in function upper().\n",
        "\n",
        "=====================================================================\n",
        "\n",
        "**Sample Input 1**:\n",
        "\n",
        "String\n",
        "\n",
        "**Sample Output 1**: \n",
        "\n",
        "TIG\n",
        "\n",
        "**Explanation**: The characters 'S', 'r' and 'n' are at index positions 0, 2, and 4 respectively. Hence they are removed and the remaining characters 'tig' are capitalized giving us output 'TIG'.\n",
        "\n",
        "=====================================================================\n",
        "\n",
        "**Sample Input 2**:\n",
        "\n",
        "abcd\n",
        "\n",
        "**Sample Output 2**: \n",
        "\n",
        "BD\n",
        "\n",
        "**Explanation**: Only the characters at the odd indices, 1 and 3, 'b' and 'd' are captitalized, concatenated and printed.\n",
        "\n",
        "=====================================================================\n"
      ]
    },
    {
      "cell_type": "code",
      "source": [
        "inp=input(\"Enter your string \")\n",
        "new_inp=\"\"\n",
        "\n",
        "for i in range(0,len(inp)):\n",
        "  if i%2!=0:\n",
        "    ascii_value = ord(inp[i])\n",
        "    if 90>=ascii_value >= 65:\n",
        "      pass\n",
        "    else:\n",
        "      ascii_value-= 32\n",
        "      new_inp+=chr(ascii_value)\n",
        "print(new_inp)\n",
        "\n"
      ],
      "metadata": {
        "colab": {
          "base_uri": "https://localhost:8080/"
        },
        "id": "ThDQuy0LF_Kg",
        "outputId": "e0d89115-5357-44f5-dacd-841803bd4d63"
      },
      "execution_count": null,
      "outputs": [
        {
          "output_type": "stream",
          "name": "stdout",
          "text": [
            "Enter your string String\n",
            "TIG\n"
          ]
        }
      ]
    },
    {
      "cell_type": "markdown",
      "metadata": {
        "id": "G1KGod9C87t_"
      },
      "source": [
        "### Task 9\n",
        "\n",
        "Write a python program that splits a given string on a given split character. The first input is a String and the second input is the character that will be used to split the first String. \n",
        "\n",
        "<font color='red'>[You cannot use the built-in split function for this task]</font>\n",
        "\n",
        "=====================================================================\n",
        "\n",
        "**Sample Input 1:**<br/>\n",
        "This-is-CSE110<br/>\n",
        "-<br/>\n",
        "\n",
        "**Sample Output 1:**<br/>\n",
        "This<br/>\n",
        "is<br/>\n",
        "CSE110\n",
        "\n",
        "**Explanation**: The second input which is the character '-', is used to split or divide the first input String 'This-is-CSE110' into 'This', 'is' and 'CSE110' which are printed individually in separate lines.\n",
        "\n",
        "=====================================================================\n",
        "\n",
        "**Sample Input 2**:\\\n",
        "tom@gmail,harry@yahoo,bob@gmail,mary@gmail\n",
        "\n",
        ",\n",
        "\n",
        "**Sample Output 2**:\n",
        "\n",
        "tom@gmail\n",
        "\n",
        "harry@yahoo\n",
        "\n",
        "bob@gmail\n",
        "\n",
        "mary@gmail\n",
        "\n",
        "====================================================================="
      ]
    },
    {
      "cell_type": "code",
      "source": [
        "#todo\n",
        "inp=input(\"Enter your string \")\n",
        "inp2=input(\"Enter your character \")\n",
        "new_input=\"\"\n",
        "\n",
        "for i in inp:\n",
        "  if inp2 == i:\n",
        "    print()\n",
        "  else:\n",
        "    print(i,end='')\n",
        "\n"
      ],
      "metadata": {
        "id": "CUBCWh7LHDbx",
        "colab": {
          "base_uri": "https://localhost:8080/"
        },
        "outputId": "2118059a-7e12-404c-f6be-16a23d161500"
      },
      "execution_count": null,
      "outputs": [
        {
          "output_type": "stream",
          "name": "stdout",
          "text": [
            "Enter your string tom@gmail,harry@yahoo,bob@gmail,mary@gmail\n",
            "Enter your character ,\n",
            "tom@gmail\n",
            "harry@yahoo\n",
            "bob@gmail\n",
            "mary@gmail"
          ]
        }
      ]
    },
    {
      "cell_type": "markdown",
      "metadata": {
        "id": "AWQJrJW3U1y3"
      },
      "source": [
        "### Task 10\n",
        "Given a string, create a new string with all the **consecutive duplicates removed**. \n",
        "\n",
        "**Hint:** You may make a new string to store the result. You can check whether the current character and the next character are the same, then add that character to the new string.\n",
        "\n",
        "**Note**: Only consecutive letters are removed not all duplicate occurences of a letter. You may try doing this alternative i.e. removing all duplicate letters from a given string, for your own practice.\n",
        "\n",
        "=====================================================================\n",
        "\n",
        "**Sample Input 1**:\\\n",
        "AAABBBBCDDBBECE\n",
        "\n",
        "**Sample Output 1:**\\\n",
        "ABCDBECE\n",
        "\n",
        "**Explanation**: From the 3 consecutive \"A\"s, 2 are removed and we have 'A' only. Then from the 4 consecutive 'B's, 3 are removed and only one is added to the new string giving us \"AB\". Since we have only one 'C' next, it is added making the resulting string \"ABC\" now and so on.\n",
        "\n",
        "=====================================================================\n",
        "\n",
        "**Sample Input 2**:\\\n",
        "Jupyter Notebook is better. Case sensitivity check AAaaaAaaAAAa.\n",
        "\n",
        "**Sample Output 2:**\\\n",
        "Jupyter Notebok is beter. Case sensitivity check AaAaAa.\n",
        "\n",
        "**Explanation**: Just the 2 consectutive 'o's and 't's are changed to one at first and the uppercase 'A' and lowercase 'a' are treated separately i.e. case sensitive when checking for consecutive duplicates.\n"
      ]
    },
    {
      "cell_type": "code",
      "source": [
        "#todo\n",
        "inp= input(\"Enter your word \")\n",
        "new_word=\"\"\n",
        "for i in inp:\n",
        "  if new_word == \"\":\n",
        "    buffer = i\n",
        "    new_word += buffer\n",
        "  elif buffer != i:\n",
        "    buffer = i \n",
        "    new_word += buffer\n",
        "print(new_word)\n",
        "   \n",
        "    \n",
        "     \n"
      ],
      "metadata": {
        "id": "Jgg1D8SNJ1L7",
        "colab": {
          "base_uri": "https://localhost:8080/"
        },
        "outputId": "17caec66-4347-495a-bfe8-aecb61a8d6df"
      },
      "execution_count": null,
      "outputs": [
        {
          "output_type": "stream",
          "name": "stdout",
          "text": [
            "Enter your word Jupyter Notebook is better. Case sensitivity check AAaaaAaaAAAa.\n",
            "Jupyter Notebok is beter. Case sensitivity check AaAaAa.\n"
          ]
        }
      ]
    },
    {
      "cell_type": "markdown",
      "metadata": {
        "id": "7a_1pYjfU1zI"
      },
      "source": [
        "### Task 11\n",
        "\n",
        "Write a python program that takes 2 inputs from the user. The first input is a string and the second input is a letter. The program should remove all occurences of the letter from the given string and print the output. If the letter is not found in the string and the length of string is greater than 3, then remove the first letter and last letter of the given string and print it. Otherwise print the string as it is. You can assume that all the input will be in lowercase letter.\n",
        "\n",
        "=====================================================================\n",
        "\n",
        "\n",
        "**Sample Input 1**:\\\n",
        "tanjiro kamado\n",
        "a\n",
        "\n",
        "**Sample output 1**:\\\n",
        "tnjiro kmdo\n",
        "\n",
        "**Explanation**: All 3 instances of the character 'a' is removed from the input String 'tanjiro kamado' to give us output 'tnjiro kmdo'.\n",
        "\n",
        "=====================================================================\n",
        "\n",
        "**Sample Input 2**:\\\n",
        "eren yeager\\\n",
        "k\n",
        "\n",
        "\n",
        "**Sample Output 2**:\\\n",
        "ren yeage\n",
        "\n",
        "**Explanation**: The character 'k' is absent in the first input String 'eren yeager' and it's length is 11 which is greater than 3 therefore the first character 'e' and the last character 'r' is removed. Hence, the final String is 'ren yeage'.\n",
        "\n",
        "=====================================================================\n",
        "\n",
        "**Sample Input 3:**\\\n",
        "hi\\\n",
        "a\n",
        "\n",
        "**Sample Output 3:**\\\n",
        "hi\n",
        "\n",
        "**Explanation**: The letter 'a' is not found in our first input 'hi', the length of which is 2. Since the character is not present and the length is less than 3, we print the String 'hi' as it is.\n",
        "\n",
        "=====================================================================\n"
      ]
    },
    {
      "cell_type": "code",
      "source": [
        "line=input('')\n",
        "symbol=input('')\n",
        "n=len(line)\n",
        "\n",
        "if symbol in line:\n",
        "  print(line.replace(symbol,''))\n",
        "elif n>3:\n",
        "  print(line[1:n-1])\n",
        "else:\n",
        "  print(line) \n",
        "\n",
        "\n"
      ],
      "metadata": {
        "colab": {
          "base_uri": "https://localhost:8080/"
        },
        "id": "KIRKDkUfVwtN",
        "outputId": "57d220ef-170b-4379-f753-f7be0f868fa1"
      },
      "execution_count": null,
      "outputs": [
        {
          "output_type": "stream",
          "name": "stdout",
          "text": [
            "eren yeager\n",
            "k\n",
            "ren yeage\n"
          ]
        }
      ]
    },
    {
      "cell_type": "markdown",
      "metadata": {
        "id": "leVtdAsdymXM"
      },
      "source": [
        "### Task 12\n",
        "\n",
        "Write a Python program that will take one input from the user made up of two strings separated by a comma and a space (see samples below). Then create a mixed string with alternative characters from each string. Any leftover chars will be appended at the end of the resulting string.\n",
        "\n",
        "*Hint: For adding the leftover characters you may use string slicing.*\n",
        "\n",
        "**Note:** Please do not use lists for this task.\n",
        "\n",
        "=====================================================================\n",
        "\n",
        "**Sample Input 1:**\\\n",
        "ABCD, efgh\n",
        "\n",
        "**Sample Output 1:**\\\n",
        "AeBfCgDh\n",
        "\n",
        "**Explanation**: At first, the two strings divided by \", \" should be separated. Then the first character of the first string 'A' is concatenated with the first character of the second string 'e' which in turn is concatenated to the second character of the first string 'B', the second character of the second string f and so on since the strings are of equal length.\n",
        "\n",
        "=====================================================================\n",
        "\n",
        "**Sample Input 2:**\\\n",
        "ABCDENDFGH, ijkl\n",
        "\n",
        "**Sample Output 2:**\\\n",
        "AiBjCkDlENDFGH\n",
        "\n",
        "**Explanation**: Here, since the length of the first string is greater than the length of the second string, after separation, the characters are concatenated alternatively as in sample input/output 1, till the length of the second string i.e. ijkl. Since, there are no more characters in the second string after that, the remaining characters if the first string i.e. ENDFGH in this case are concatenated at the end of the final string.\n",
        "\n",
        "=====================================================================\n",
        "\n",
        "**Sample Input 3:**\\\n",
        "ijkl, ABCDENDFGH\n",
        "\n",
        "**Sample Output 3:**\\\n",
        "iAjBkClDENDFGH\n",
        "\n",
        "**Explanation**: This time, the length of the second string is greater than the length of the first string therefore the first letters of the 2 strings 'i' and 'A', then the second letters 'j' and 'B' and so on are being concatenated until there are no more letters in the first shorter string following which the remaining letters i.e. ENDFGH again in this case too (this may be different for other different string inputs) are added at the end giving us the resulting output string.\n",
        "\n",
        "=====================================================================\n"
      ]
    },
    {
      "cell_type": "code",
      "metadata": {
        "id": "kC1cq47myny6",
        "colab": {
          "base_uri": "https://localhost:8080/"
        },
        "outputId": "a906f6d1-6785-460b-81ab-c3295402cc41"
      },
      "source": [
        "#todo\n",
        "inp=input(\"Enter a string \")\n",
        "\n",
        "n=inp.find(', ') # Finding commas positon in inp\n",
        "\n",
        "# Extracting substring\n",
        "str_1= inp[0:n]\n",
        "str_2= inp[n+2:]\n",
        "\n",
        "if len(str_1)>len(str_2):\n",
        "  min_x= len(str_2)\n",
        "\n",
        "  for i in range(0,min_x):\n",
        "    print(str_1[i]+str_2[i],end='')\n",
        "  print(str_1[min_x:])\n",
        "\n",
        "else:\n",
        "  min_x= len(str_1)\n",
        "  for i in range(0,min_x):\n",
        "    print(str_1[i]+str_2[i],end='')\n",
        "  print(str_2[min_x:])\n",
        "\n",
        "\n"
      ],
      "execution_count": null,
      "outputs": [
        {
          "output_type": "stream",
          "name": "stdout",
          "text": [
            "Enter a string ABCDENDFGH, ijkl\n",
            "AiBjCkDlENDFGH\n"
          ]
        }
      ]
    },
    {
      "cell_type": "markdown",
      "metadata": {
        "id": "WZXnxHTdGrMC"
      },
      "source": [
        "## Optional Tasks (13 - 15) [Ungraded]"
      ]
    },
    {
      "cell_type": "markdown",
      "metadata": {
        "id": "lPoDvm8YU1y9"
      },
      "source": [
        "### Task 13\n",
        "\n",
        "Suppose you are given two strings, s1, and s2. Now, print a new string made up of the last characters and then the first characters of the input strings.\n",
        "\n",
        "=====================================================================\n",
        "\n",
        "**Sample Input 1**:\n",
        "\n",
        "s1 = new\n",
        "\n",
        "s2= string\n",
        "\n",
        "**Sample Output 1**:\n",
        "\n",
        "gwsn\n",
        "\n",
        "**Explanation:** The last character of the String s2 is 'g'. The last character of the String s1 is 'w'. The first character of the String s2 is 's'. The first character of the String s1 is 'n'. Together they give us the ouput we want 'gwsn'.\n",
        "\n",
        "=====================================================================\n",
        "\n",
        "**Sample Input 2**:\n",
        "\n",
        "s1 = abcd\n",
        "\n",
        "s2= efgh\n",
        "\n",
        "**Sample Output 2**: \n",
        "\n",
        "hdea\n",
        "\n",
        "**Explanation:** The last characters of the Strings s2 and s1 is 'h' and 'd' respectively while the first characters of the Strings is 'e' and 'a' respectively. Together they give us the ouput we want 'gwsn'.\n",
        "\n",
        "=====================================================================\n"
      ]
    },
    {
      "cell_type": "code",
      "source": [
        "#todo\n",
        "inp1=input(\"Enter the first string \")\n",
        "inp2=input(\"Enter the second string \")\n",
        "\n",
        "inp_last=\"\"\n",
        "inp_first=\"\"\n",
        "\n",
        "\n",
        "\n",
        "# Last letter and first letter of second string\n",
        "for i in range(0,len(inp2)):\n",
        "  inp_last+=inp2[len(inp2)-1]\n",
        "  inp_first+=inp2[0]\n",
        "  break\n",
        "# last letter and first letter of first string\n",
        "for i in range(0,len(inp1)):\n",
        "  inp_last+=inp1[len(inp1)-1]\n",
        "  inp_first+=inp1[0]\n",
        "  break\n",
        "\n",
        "print(inp_last+inp_first)\n",
        "\n",
        "\n",
        "\n",
        "\n"
      ],
      "metadata": {
        "id": "oMHccx2MGkbh",
        "colab": {
          "base_uri": "https://localhost:8080/"
        },
        "outputId": "fafc0f08-b1ed-4cd2-a16d-fecd96f3ea64"
      },
      "execution_count": null,
      "outputs": [
        {
          "output_type": "stream",
          "name": "stdout",
          "text": [
            "Enter the first string abcd\n",
            "Enter the second string efgh\n",
            "hdea\n"
          ]
        }
      ]
    },
    {
      "cell_type": "markdown",
      "metadata": {
        "id": "AWgZaBZCzmaM"
      },
      "source": [
        "### Task 14\n",
        "\n",
        "Write a python program that takes two inputs. The first input is a string and the second input is a number. If the number is even then concatenate the given string two times the given number and if the number is odd then concatenate the given string three times the given number.\n",
        "\n",
        "=====================================================================\n",
        "\n",
        "**Sample Input 1**:\n",
        "\n",
        "CSE110\n",
        "\n",
        "4\n",
        "\n",
        "**Sample output 1**:\n",
        "\n",
        "CSE110CSE110CSE110CSE110CSE110CSE110CSE110CSE110\n",
        "\n",
        "**Explanation**: The second input which is the number 4 is even, therefore the first string input 'CSE110' is concatenated(joined together) 4*2 = 8 times.\n",
        "\n",
        "=====================================================================\n",
        "\n",
        "**Sample Input 2**:\n",
        "\n",
        "CSE110\n",
        "\n",
        "3\n",
        "\n",
        "**Sample Output 2**:\n",
        "\n",
        "CSE110CSE110CSE110CSE110CSE110CSE110CSE110CSE110CSE110\n",
        "\n",
        "=====================================================================\n"
      ]
    },
    {
      "cell_type": "code",
      "source": [
        "#todo\n",
        "inp1=input(\"Enter your string \")\n",
        "inp2=int(input(\"Enter your number \"))\n",
        "\n",
        "for i in range(0,inp2):\n",
        "  if inp2%2!=0:\n",
        "   print(3*inp1,end='')\n",
        "  else:\n",
        "    print(2*inp1,end='')"
      ],
      "metadata": {
        "id": "yvIHAACBGy1p",
        "colab": {
          "base_uri": "https://localhost:8080/"
        },
        "outputId": "860c0863-c745-4fbe-b021-77426cc87501"
      },
      "execution_count": null,
      "outputs": [
        {
          "output_type": "stream",
          "name": "stdout",
          "text": [
            "Enter your string CSE110\n",
            "Enter your number 4\n",
            "CSE110CSE110CSE110CSE110CSE110CSE110CSE110CSE110"
          ]
        }
      ]
    },
    {
      "cell_type": "markdown",
      "metadata": {
        "id": "nwRZ3_0tC3fq"
      },
      "source": [
        "### Task 15\n",
        "\n",
        "Write a python program that takes a string as an input from the user and then modifies the string in such a way that the string always starts with an uppercase letter and the case of each subsequent letter is the opposite of the previous letter (uppercase character followed by a lowercase character followed by an uppercase character and so on).  Finally the modified string is printed to show the user.\n",
        "\n",
        "*Hint:  Flags/counters can be used to manage uppercase-lowercase.*\n",
        "\n",
        "=====================================================================\n",
        "\n",
        "**Sample Input 1:**\\\n",
        "Python programming is very easy\n",
        "\n",
        "**Sample Output 1:**\\\n",
        "PyThOn PrOgRaMmInG iS vErY eAsY\n",
        "\n",
        "=====================================================================\n",
        "\n",
        "**Sample Input 2:**\\\n",
        "I&nbsp;&nbsp;&nbsp;&nbsp;&nbsp;&nbsp;     love       &nbsp;&nbsp;&nbsp;&nbsp;&nbsp;&nbsp;&nbsp; Python &nbsp;&nbsp;&nbsp;&nbsp;&nbsp;&nbsp;&nbsp;&nbsp;Programming\n",
        "\n",
        "**Sample Output 2:**\\\n",
        "I&nbsp;&nbsp;&nbsp;&nbsp;&nbsp;&nbsp;     lOvE       &nbsp;&nbsp;&nbsp;&nbsp;&nbsp;&nbsp;&nbsp;pYtHoN&nbsp;&nbsp;&nbsp;&nbsp;&nbsp;&nbsp;&nbsp;&nbsp;pRoGrAmMiNg\n",
        "\n",
        "=====================================================================\n",
        "\n",
        "**Sample Input 3:**\\\n",
        "CSE110 Course\n",
        "\n",
        "**Sample Output 3**\\\n",
        "CsE110 cOuRsE\n",
        "\n",
        "\n",
        "\n",
        "=====================================================================\n",
        "\n",
        "**Sample Input 4:**\\\n",
        "c\n",
        "\n",
        "**Sample Output 4:**\\\n",
        "C\n",
        "\n",
        "=====================================================================\n"
      ]
    },
    {
      "cell_type": "code",
      "metadata": {
        "id": "LEnaTlyoMJdS",
        "colab": {
          "base_uri": "https://localhost:8080/"
        },
        "outputId": "9606b171-1a99-4e21-9355-632808b6024f"
      },
      "source": [
        "#todo\n",
        "inp = input(\"input your string\\n\")\n",
        "\n",
        "ans = ''\n",
        "last_letter = ''\n",
        "\n",
        "for idx in range(len(inp)):\n",
        "  if last_letter == '':\n",
        "    if 'a'<=inp[idx]<='z':\n",
        "      ans += chr(ord(inp[idx]) - 32)\n",
        "      last_letter = ans[-1]\n",
        "    elif 'A' <= inp[idx] <= 'Z':\n",
        "      ans += inp[idx]\n",
        "      last_letter = ans[-1]\n",
        "    else:\n",
        "      ans += inp[idx]\n",
        "    \n",
        "  elif \"A\"<=last_letter<=\"Z\" and \"A\"<=inp[idx]<=\"Z\" :\n",
        "    ans += chr(ord(inp[idx]) + 32)\n",
        "    last_letter = ans[-1]\n",
        "\n",
        "  elif \"a\"<=last_letter<=\"z\" and \"a\"<=inp[idx]<=\"z\" :\n",
        "    ans += chr(ord(inp[idx]) - 32)\n",
        "    last_letter = ans[-1]\n",
        "\n",
        "  elif \"A\"<=inp[idx]<=\"Z\" or \"a\"<=inp[idx]<=\"z\" :\n",
        "      ans += inp[idx]\n",
        "      last_letter = ans[-1]\n",
        "\n",
        "  else:\n",
        "      ans += inp[idx]\n",
        "\n",
        "\n",
        "print(ans)\n"
      ],
      "execution_count": null,
      "outputs": [
        {
          "output_type": "stream",
          "name": "stdout",
          "text": [
            "input your string\n",
            "c\n",
            "C\n"
          ]
        }
      ]
    }
  ]
}