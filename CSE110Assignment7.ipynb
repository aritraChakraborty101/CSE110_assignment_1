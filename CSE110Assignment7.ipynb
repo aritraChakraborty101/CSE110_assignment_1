{
  "nbformat": 4,
  "nbformat_minor": 0,
  "metadata": {
    "colab": {
      "provenance": [],
      "authorship_tag": "ABX9TyMcAvYcQPlpJJWO6NlCz2RY",
      "include_colab_link": true
    },
    "kernelspec": {
      "name": "python3",
      "display_name": "Python 3"
    },
    "language_info": {
      "name": "python"
    }
  },
  "cells": [
    {
      "cell_type": "markdown",
      "metadata": {
        "id": "view-in-github",
        "colab_type": "text"
      },
      "source": [
        "<a href=\"https://colab.research.google.com/github/aritraChakraborty101/CSE110_assignment_1/blob/main/CSE110Assignment7.ipynb\" target=\"_parent\"><img src=\"https://colab.research.google.com/assets/colab-badge.svg\" alt=\"Open In Colab\"/></a>"
      ]
    },
    {
      "cell_type": "code",
      "execution_count": null,
      "metadata": {
        "colab": {
          "base_uri": "https://localhost:8080/"
        },
        "id": "VO9sUG7xnMmZ",
        "outputId": "e8d02c95-564d-4952-d613-fd0b32aaae40"
      },
      "outputs": [
        {
          "output_type": "stream",
          "name": "stdout",
          "text": [
            "[1, 2, 2, 3, 5, 6, 10, 11, 12, 14, 15, 17, 18, 20, 29]\n"
          ]
        }
      ],
      "source": [
        "#task1\n",
        "# Suppose you have a list named my_list as given below.\n",
        "# my_list = [10, 1, 20, 3, 6, 2, 5, 11, 15, 2, 12, 14, 17, 18, 29]\n",
        "# Now use bubble sort to sort my_list into ascending order.\n",
        "# ===============================================================\n",
        "my_list=[10, 1, 20, 3, 6, 2, 5, 11, 15, 2, 12, 14, 17, 18, 29]\n",
        "for i in range(len(my_list)-1):\n",
        "  count=0\n",
        "  for j in range(len(my_list)-1-i):\n",
        "    if my_list[j]>my_list[j+1]:\n",
        "      temp=my_list[j]\n",
        "      my_list[j]=my_list[j+1]\n",
        "      my_list[j+1]=temp\n",
        "      count+=1\n",
        "      # To avoid unnecessary iteration\n",
        "  if count==0:\n",
        "    break\n",
        "  else:\n",
        "    continue\n",
        "print(my_list)\n"
      ]
    },
    {
      "cell_type": "code",
      "source": [
        "#task2\n",
        "# Suppose you have a list named my_list as given below\n",
        "# my_list= [10, 1, 20, 3, 6, 2, 5, 11, 15, 2, 12, 14, 17, 18, 29]\n",
        "# Now use selection sort to sort my_list into ascending order.\n",
        "# ===============================================================\n",
        "numbers = [17, 3, 9, 21, 2]\n",
        "print(\"Before Sorting:\", numbers)\n",
        "for index1 in range(0, len(numbers)-1): \n",
        "  min_val = numbers[index1]\n",
        "  min_index = index1\n",
        "  count=0\n",
        "  for index2 in range(index1+1, len(numbers)):\n",
        "    if numbers[index2] < min_val:\n",
        "      min_val = numbers[index2]\n",
        "      min_index = index2 \n",
        "      temp = min_val\n",
        "      numbers[min_index] = numbers[index1]\n",
        "      numbers[index1] = temp\n",
        "      count+=1\n",
        "      # To avoid unnecessary iteration\n",
        "  if count==0:\n",
        "    break\n",
        "  else:\n",
        "    continue\n",
        "print(\"After Sorting:\", numbers)"
      ],
      "metadata": {
        "id": "igbCf6p4nUf7",
        "colab": {
          "base_uri": "https://localhost:8080/"
        },
        "outputId": "5c160699-5630-4ef2-f9a5-a022c45d9e23"
      },
      "execution_count": null,
      "outputs": [
        {
          "output_type": "stream",
          "name": "stdout",
          "text": [
            "Before Sorting: [17, 3, 9, 21, 2]\n",
            "After Sorting: [2, 3, 9, 17, 21]\n"
          ]
        }
      ]
    },
    {
      "cell_type": "code",
      "source": [
        "#task3\n",
        "# Suppose you have a list named my_list as given below.\n",
        "# my_list = [10, 1, 20, 3, 6, 2, 5, 11, 15, 2, 12, 14, 17, 18, 29]\n",
        "# Now use any of the two sorting techniques you have used above to sort the list in\n",
        "# descending order.\n",
        "# ===============================================================\n",
        "my_list = [10, 1, 20, 3, 6, 2, 5, 11, 15, 2, 12, 14, 17, 18, 29]\n",
        "\n",
        "for i in range(len(my_list)-1):\n",
        "  count=0\n",
        "  for j in range(len(my_list)-1-i):\n",
        "    if my_list[j]<my_list[j+1]:\n",
        "      temp=my_list[j]\n",
        "      my_list[j]=my_list[j+1]\n",
        "      my_list[j+1]=temp\n",
        "      count+=1\n",
        "  if count==0:\n",
        "    break\n",
        "  else:\n",
        "    continue\n",
        "\n",
        "print(my_list)\n",
        "\n"
      ],
      "metadata": {
        "colab": {
          "base_uri": "https://localhost:8080/"
        },
        "id": "nvBPZT0WZy63",
        "outputId": "086bb27f-380a-421f-9365-f7a2fb8210f8"
      },
      "execution_count": null,
      "outputs": [
        {
          "output_type": "stream",
          "name": "stdout",
          "text": [
            "[29, 20, 18, 17, 15, 14, 12, 11, 10, 6, 5, 3, 2, 2, 1]\n"
          ]
        }
      ]
    },
    {
      "cell_type": "code",
      "source": [
        "#task4\n",
        "# Suppose you have a sitting arrangement of the students who will give the final exam in a\n",
        "# list. The list contains the last two digits of their student ID as given below.\n",
        "\n",
        "# sitting_list = [10,30,20,70,11,15,22,16,58,100,12,56,70,80]\n",
        "# Now you want to organize the sitting arrangement of the students in your own way. You\n",
        "# decide to sort all the students in the even indices of the list in ascending order and all\n",
        "# the students in the odd indices of the list in descending order.\n",
        "# So, write a python program that organizes the list for you in this way.\n",
        "# ===============================================================\n",
        "# Output:\n",
        "# [10, 100, 11, 80, 12, 70, 20, 56, 22, 30, 58, 16, 70, 15]\n",
        "\n",
        "sitting_list = [10,30,20,70,11,15,22,16,58,100,12,56,70,80]\n",
        "even_list=[]\n",
        "odd_list=[]\n",
        "result_list=[]\n",
        "\n",
        "#sorting list\n",
        "def ascending_sorting(my_list):\n",
        "  for i in range(len(my_list)-1):\n",
        "    count=0\n",
        "    for j in range(len(my_list)-1-i):\n",
        "      if my_list[j]>my_list[j+1]:\n",
        "        temp=my_list[j]\n",
        "        my_list[j]=my_list[j+1]\n",
        "        my_list[j+1]=temp\n",
        "        count+=1\n",
        "    if count==0:\n",
        "      break\n",
        "    else:\n",
        "      continue\n",
        "  return my_list\n",
        "\n",
        "def descending_order(my_list):\n",
        "  for i in range(len(my_list)-1):\n",
        "    count=0\n",
        "    for j in range(len(my_list)-1-i):\n",
        "      if my_list[j]<my_list[j+1]:\n",
        "        temp=my_list[j]\n",
        "        my_list[j]=my_list[j+1]\n",
        "        my_list[j+1]=temp\n",
        "        count+=1\n",
        "    if count==0:\n",
        "      break\n",
        "    else:\n",
        "      continue\n",
        "  return my_list\n",
        "\n",
        "\n",
        "#Creating two list based on position\n",
        "for i in range(len(sitting_list)):\n",
        "  if i%2==0:\n",
        "     even_list.append(sitting_list[i])\n",
        "  else:\n",
        "    odd_list.append(sitting_list[i])\n",
        "\n",
        "even_list=ascending_sorting(even_list)\n",
        "odd_list=descending_order(odd_list)\n",
        "\n",
        "\n",
        "for i in range(len(even_list)):\n",
        "    if i < len(even_list):\n",
        "      result_list.append(even_list[i])\n",
        "    if i < len(odd_list):\n",
        "      result_list.append(odd_list[i])\n",
        "  \n",
        "print(result_list)"
      ],
      "metadata": {
        "colab": {
          "base_uri": "https://localhost:8080/"
        },
        "id": "RRNAFJJRaBJO",
        "outputId": "50a3cbac-4c72-4b5e-8fe2-fa5a6a259e07"
      },
      "execution_count": null,
      "outputs": [
        {
          "output_type": "stream",
          "name": "stdout",
          "text": [
            "[10, 100, 11, 80, 12, 70, 20, 56, 22, 30, 58, 16, 70, 15]\n"
          ]
        }
      ]
    },
    {
      "cell_type": "code",
      "source": [
        "#task5\n",
        "# Suppose a list contains marks earned in the courses CSE110, PHY111, and MAT110 of\n",
        "# each student consecutively in a nested list form. Your task is to take a course name as\n",
        "# input from the user and sort the list based on the marks obtained in that course to\n",
        "# finally print the names of the students in descending order of marks obtained i.e. from\n",
        "# the student who earned the highest marks to the student who earned the lowest.\n",
        "# For example, the list may look like\n",
        "# lst = [ [\"Alan\", 95, 87, 91], [\"Turing\", 92, 90, 83], [\"Elon\", 87, 92, 80], [\"Musk\", 85, 94, 90] ]\n",
        "# where for each nested list, 1st index holds the name of the student, 2nd index is total\n",
        "# marks earned in the CSE110 course, 3rd index is PHY111 marks and 4th index is\n",
        "# MAT110 marks.\n",
        "# ===============================================================\n",
        "# Hint:\n",
        "# You may create a function for sorting, then call it whenever needed instead of rewriting\n",
        "# the code.\n",
        "# You may get the data in the individual lists from the given nested list.\n",
        "# ===============================================================\n",
        "lst = [ [\"Alan\", 95, 87, 91], [\"Turing\", 92, 90, 83], [\"Elon\", 87, 92, 80], [\"Musk\", 85, 94, 90]]\n",
        "temp=[]\n",
        "sub=input(\"Enter your subject\")\n",
        "for i in lst:\n",
        "  if sub==\"CSE110\":\n",
        "    temp.append([i[0],i[1]])\n",
        "  elif sub==\"PHY111\":\n",
        "    temp.append([i[0],i[1]])\n",
        "  elif sub==\"MAT110\":\n",
        "    temp.append([i[0],i[2]])\n",
        "print(temp)\n",
        "mark=[]\n",
        "for i in temp:\n",
        "  mark.append(i[1])\n",
        "sorted_marks=sorted(mark,reverse=True)\n",
        "for j in sorted_marks:\n",
        "  for k in temp:\n",
        "    if j in k:\n",
        "      print(k[0])\n",
        "  \n"
      ],
      "metadata": {
        "colab": {
          "base_uri": "https://localhost:8080/"
        },
        "id": "ZW2_HwgPnVDC",
        "outputId": "3fbe4a35-0dcf-43d7-c858-6b2d38103d2e"
      },
      "execution_count": null,
      "outputs": [
        {
          "output_type": "stream",
          "name": "stdout",
          "text": [
            "Enter your subjectCSE110\n",
            "[['Alan', 95], ['Turing', 92], ['Elon', 87], ['Musk', 85]]\n",
            "Alan\n",
            "Turing\n",
            "Elon\n",
            "Musk\n"
          ]
        }
      ]
    },
    {
      "cell_type": "code",
      "source": [
        "#task6\n",
        "# Suppose you have a list named my_list as given below. Your task is to sort the list in\n",
        "# ascending order and print the count of numbers that have changed their positions in the\n",
        "# process of sorting.\n",
        "# my_list = [4, 2, 3, 1, 6, 5]\n",
        "# The sorted list would be [1, 2, 3, 4, 5, 6] where 4 numbers (4, 1, 6, and 5) have changed\n",
        "# their positions. Therefore our sample output here would be 4. Please check if your code\n",
        "# is working correctly by changing the above list and using the knowledge given here to\n",
        "# verify whether your code gives the correct output for all different lists.\n",
        "# Sample Output for the above list\n",
        "# 4\n",
        "\n",
        "my_list = [4, 2, 3, 1, 6, 5]\n",
        "main_list=my_list.copy()\n",
        "count_swp=0\n",
        "# Sorting the list\n",
        "for i in range(len(my_list)-1):\n",
        "  count=0\n",
        "  for j in range(len(my_list)-1-i):\n",
        "    if my_list[j]>my_list[j+1]:\n",
        "      temp=my_list[j]\n",
        "      my_list[j]=my_list[j+1]\n",
        "      my_list[j+1]=temp\n",
        "      count+=1\n",
        "  if count==0:\n",
        "    break\n",
        "  else:\n",
        "    continue\n",
        "\n",
        "# Count the numbers that have changed their position\n",
        "for i in range(len(main_list)):\n",
        "  if main_list[i]!=my_list[i]:\n",
        "    count_swp+=1\n",
        "  else:\n",
        "    pass\n",
        "\n",
        "print(\"The amount of numbers that have changed their position:\",count_swp)"
      ],
      "metadata": {
        "colab": {
          "base_uri": "https://localhost:8080/"
        },
        "id": "jYKSVs9yFeEr",
        "outputId": "8490b7e3-388b-4fff-8d15-fed63773bbab"
      },
      "execution_count": null,
      "outputs": [
        {
          "output_type": "stream",
          "name": "stdout",
          "text": [
            "The amount of numbers that have changed their position: 4\n"
          ]
        }
      ]
    },
    {
      "cell_type": "code",
      "source": [
        "#TASK7\n",
        "# Write a python program that takes two lists from the user, merges the two lists, sorts the\n",
        "# resulting list, and then finds the median of the elements in the two lists.\n",
        "# =====================================================\n",
        "sorted_list=[]\n",
        "\n",
        "#for list1\n",
        "inp1=input()\n",
        "list_one=[]\n",
        "inp1=inp1[1:-1]\n",
        "inp1=inp1.split(\", \")\n",
        "for i in inp1:\n",
        "  list_one.append(int(i))\n",
        "\n",
        "#for list2\n",
        "inp2=input()\n",
        "list_two=[]\n",
        "inp2=inp2[1:-1]\n",
        "inp2=inp2.split(\", \")\n",
        "for i in inp2:\n",
        "  list_two.append(int(i))\n",
        "  \n",
        "main_list=list_one+list_two\n",
        "\n",
        "#sort list\n",
        "for i in range(len(main_list)-1):\n",
        "  count=0\n",
        "  for j in range(len(main_list)-1-i):\n",
        "    if main_list[j]>main_list[j+1]:\n",
        "      temp=main_list[j]\n",
        "      main_list[j]=main_list[j+1]\n",
        "      main_list[j+1]=temp\n",
        "      count+=1\n",
        "  if count==0:\n",
        "    break\n",
        "  else:\n",
        "    continue\n",
        "print(\"Sorted list\",main_list)\n",
        "\n",
        "#Calculating median\n",
        "if len(main_list)%2!=0:\n",
        "  print(main_list[len(main_list)//2])\n",
        "else:\n",
        "  print(\"Median\",(main_list[len(main_list)//2]+ main_list[(len(main_list)//2)-1])/2)\n"
      ],
      "metadata": {
        "id": "TMwE_yWVnUqq",
        "colab": {
          "base_uri": "https://localhost:8080/"
        },
        "outputId": "630ea43f-10df-4a47-a54b-8de2490f0ec5"
      },
      "execution_count": null,
      "outputs": [
        {
          "output_type": "stream",
          "name": "stdout",
          "text": [
            "[1, 2, 4, 3]\n",
            "[8, 4, 9, 3]\n",
            "Sorted list [1, 2, 3, 3, 4, 4, 8, 9]\n",
            "Median 3.5\n"
          ]
        }
      ]
    },
    {
      "cell_type": "code",
      "source": [
        "# Task8\n",
        "# Write a python program that takes a list from a user containing both positive and\n",
        "# negative numbers. The program then finds two pairs of values whose summation is\n",
        "# closest to zero.\n",
        "# =====================================================\n",
        "# Sample Input 1\n",
        "# list_one = [-10, 15, 2, 4, -4, 7, -8]\n",
        "# Sample Output 1\n",
        "# Two pairs which have the smallest sum = 4 and -4\n",
        "# =====================================================\n",
        "\n",
        "list_one = [-10, 15, 2, 4, -4, 7, -8]\n",
        "buffer=list_one[0] + list_one[1]\n",
        "idx1=None\n",
        "idx2=None\n",
        "\n",
        "for i in range (0, len(list_one) - 1):\n",
        "        for j in range (i + 1, len(list_one)):\n",
        "            sum = list_one[i] + list_one[j] \n",
        "            if abs(buffer) > abs(sum):        \n",
        "              buffer = sum\n",
        "              idx1 = i\n",
        "              idx2 = j\n",
        "print(f\"Two pairs which have the smallest sum = {list_one[idx1]} and {list_one[idx2]}\")\n",
        "\n"
      ],
      "metadata": {
        "colab": {
          "base_uri": "https://localhost:8080/"
        },
        "id": "5zstNjkqJYCA",
        "outputId": "fd8622f8-da9c-4325-f8ef-9742ca33aa6e"
      },
      "execution_count": null,
      "outputs": [
        {
          "output_type": "stream",
          "name": "stdout",
          "text": [
            "Two pairs which have the smallest sum = 4 and -4\n"
          ]
        }
      ]
    },
    {
      "cell_type": "code",
      "source": [
        "#task9\n",
        "# You will be given a list of tuples where each tuple indicates a point i.e. (x, y) in a\n",
        "# 2-dimensional coordinate system.\n",
        "# You need to write a python program to find the minimum distance and the point that is\n",
        "# closest to the origin i.e. (0,0)\n",
        "# =====================================================\n",
        "# Hint:\n",
        "# The formula of distance = √((Δx)2+(Δy)2)\n",
        "# As you are calculating the distance from the origin (0,0), you can simply use\n",
        "# distance = √(x2+y2)\n",
        "# You can create a list of distances from each point and sort that list using your personal\n",
        "# favorite sorting algorithm.\n",
        "# =====================================================\n",
        "points = [(5,3), (2,9), (-2,7), (-3,-4), (0,6), (7,-2)]\n",
        "distance=[]\n",
        "\n",
        "for i in points:\n",
        "  dist=((i[0]**2)+(i[1]**2))**0.5\n",
        "  distance.append(dist)\n",
        "sorted_distance=sorted(distance)\n",
        "min_distence=sorted_distance[0]\n",
        "min_point=[]\n",
        "for j in points:\n",
        "  dist=((j[0]**2)+(j[1]**2))**0.5\n",
        "  if dist==min_distence:\n",
        "    min_point.append(j)\n",
        "    break\n",
        "print(f\"Minimum distance = {min_distence}\")\n",
        "print(f\"Here the closest point is {min_point[0]} which has a distance of {min_distence} from the origin.\")  \n",
        "\n",
        "\n",
        " \n",
        "\n",
        "  \n"
      ],
      "metadata": {
        "id": "egeIzgNAnUlS",
        "colab": {
          "base_uri": "https://localhost:8080/"
        },
        "outputId": "3b5f520d-1cd6-451e-e2e7-8c3a8be39f58"
      },
      "execution_count": null,
      "outputs": [
        {
          "output_type": "stream",
          "name": "stdout",
          "text": [
            "Minimum distance = 5.0\n",
            "Here the closest point is (-3, -4) which has a distance of 5.0 from the origin.\n"
          ]
        }
      ]
    },
    {
      "cell_type": "code",
      "source": [
        "inp=int(input(\"\"))\n",
        "n=0\n",
        "Data=[]\n",
        "while n<inp:\n",
        "    inp1=int(input())\n",
        "    Data.append(inp1)\n",
        "    n+=1\n",
        "Key=int(input())\n",
        "\n",
        "def binary_search(data,key):\n",
        "    left = 0\n",
        "    right = len(data) - 1\n",
        "    while left <= right:\n",
        "        mid_index = (left+ right)//2\n",
        "        mid_val = data[mid_index]\n",
        "        if key == mid_val:\n",
        "            return \"YES\"\n",
        "        elif key > mid_val:\n",
        "            left = mid_index + 1\n",
        "        else:\n",
        "            right = mid_index - 1\n",
        "\n",
        "    return \"No\" \n",
        "i=(binary_search(Data,Key))\n",
        "print(i)"
      ],
      "metadata": {
        "id": "Hdjyd8rKQ0rB"
      },
      "execution_count": null,
      "outputs": []
    },
    {
      "cell_type": "code",
      "source": [
        "\n",
        "inp=input().split(\" \")\n",
        "inp.sort()\n",
        "sum=0\n",
        "sum1=0\n",
        "\n",
        "for i in range(len(inp)-1):\n",
        "  sum+=int(inp[i])\n",
        "print(sum,end=\" \")\n",
        "for i in range(1,len(inp)):\n",
        "  sum1+=int(inp[i])\n",
        "  \n",
        "print(sum1)\n"
      ],
      "metadata": {
        "colab": {
          "base_uri": "https://localhost:8080/"
        },
        "id": "yai8G3OMUTa1",
        "outputId": "e6f641c8-75e9-4cc4-8a4a-25ecc141e93f"
      },
      "execution_count": null,
      "outputs": [
        {
          "output_type": "stream",
          "name": "stdout",
          "text": [
            "7 69 2 221 8974\n",
            "299 9271\n"
          ]
        }
      ]
    },
    {
      "cell_type": "code",
      "source": [
        "inp=input()\n",
        "sum=\"\"\n",
        "if inp[-2]==\"P\":\n",
        "  if inp[0]+inp[1]==\"12\":\n",
        "    print(f\"{inp[0:-2]}\")\n",
        "  else:\n",
        "    sum+=inp[0]+inp[1]\n",
        "    print(f\"{int(sum)+12}{inp[2:-2]}\")\n",
        "else:\n",
        "  if inp[0]+inp[1]==\"12\":\n",
        "    print(f\"00{inp[2:-2]}\")\n",
        "  else:\n",
        "    print(f\"{inp[0:-2]}\")\n",
        "\n"
      ],
      "metadata": {
        "colab": {
          "base_uri": "https://localhost:8080/"
        },
        "id": "WSKDlyKnYVlN",
        "outputId": "89fe9e87-2366-461a-9a79-6d58651a3066"
      },
      "execution_count": null,
      "outputs": [
        {
          "output_type": "stream",
          "name": "stdout",
          "text": [
            "12:45:54PM\n",
            "12:45:54\n"
          ]
        }
      ]
    },
    {
      "cell_type": "code",
      "source": [
        "x=int(input())\n",
        "inp=input().split()\n",
        "inp.sort()\n",
        "result=None\n",
        "\n",
        "def findMedian(arr,size):\n",
        "    result=inp[(x+1)/3]\n",
        "    return result\n",
        "i=findMedian(inp,x)\n",
        "print(i)"
      ],
      "metadata": {
        "colab": {
          "base_uri": "https://localhost:8080/",
          "height": 373
        },
        "id": "M8H7yrWJfvWZ",
        "outputId": "410b9050-7815-4281-afec-46f5712efb57"
      },
      "execution_count": null,
      "outputs": [
        {
          "name": "stdout",
          "output_type": "stream",
          "text": [
            "7\n",
            "1 2 3 4 5\n"
          ]
        },
        {
          "output_type": "error",
          "ename": "TypeError",
          "evalue": "ignored",
          "traceback": [
            "\u001b[0;31m---------------------------------------------------------------------------\u001b[0m",
            "\u001b[0;31mTypeError\u001b[0m                                 Traceback (most recent call last)",
            "\u001b[0;32m<ipython-input-30-93853bfa113f>\u001b[0m in \u001b[0;36m<module>\u001b[0;34m()\u001b[0m\n\u001b[1;32m      7\u001b[0m     \u001b[0mresult\u001b[0m\u001b[0;34m=\u001b[0m\u001b[0minp\u001b[0m\u001b[0;34m[\u001b[0m\u001b[0;34m(\u001b[0m\u001b[0mx\u001b[0m\u001b[0;34m+\u001b[0m\u001b[0;36m1\u001b[0m\u001b[0;34m)\u001b[0m\u001b[0;34m/\u001b[0m\u001b[0;36m3\u001b[0m\u001b[0;34m]\u001b[0m\u001b[0;34m\u001b[0m\u001b[0;34m\u001b[0m\u001b[0m\n\u001b[1;32m      8\u001b[0m     \u001b[0;32mreturn\u001b[0m \u001b[0mresult\u001b[0m\u001b[0;34m\u001b[0m\u001b[0;34m\u001b[0m\u001b[0m\n\u001b[0;32m----> 9\u001b[0;31m \u001b[0mi\u001b[0m\u001b[0;34m=\u001b[0m\u001b[0mfindMedian\u001b[0m\u001b[0;34m(\u001b[0m\u001b[0minp\u001b[0m\u001b[0;34m,\u001b[0m\u001b[0mx\u001b[0m\u001b[0;34m)\u001b[0m\u001b[0;34m\u001b[0m\u001b[0;34m\u001b[0m\u001b[0m\n\u001b[0m\u001b[1;32m     10\u001b[0m \u001b[0mprint\u001b[0m\u001b[0;34m(\u001b[0m\u001b[0mi\u001b[0m\u001b[0;34m)\u001b[0m\u001b[0;34m\u001b[0m\u001b[0;34m\u001b[0m\u001b[0m\n",
            "\u001b[0;32m<ipython-input-30-93853bfa113f>\u001b[0m in \u001b[0;36mfindMedian\u001b[0;34m(arr, size)\u001b[0m\n\u001b[1;32m      5\u001b[0m \u001b[0;34m\u001b[0m\u001b[0m\n\u001b[1;32m      6\u001b[0m \u001b[0;32mdef\u001b[0m \u001b[0mfindMedian\u001b[0m\u001b[0;34m(\u001b[0m\u001b[0marr\u001b[0m\u001b[0;34m,\u001b[0m\u001b[0msize\u001b[0m\u001b[0;34m)\u001b[0m\u001b[0;34m:\u001b[0m\u001b[0;34m\u001b[0m\u001b[0;34m\u001b[0m\u001b[0m\n\u001b[0;32m----> 7\u001b[0;31m     \u001b[0mresult\u001b[0m\u001b[0;34m=\u001b[0m\u001b[0minp\u001b[0m\u001b[0;34m[\u001b[0m\u001b[0;34m(\u001b[0m\u001b[0mx\u001b[0m\u001b[0;34m+\u001b[0m\u001b[0;36m1\u001b[0m\u001b[0;34m)\u001b[0m\u001b[0;34m/\u001b[0m\u001b[0;36m3\u001b[0m\u001b[0;34m]\u001b[0m\u001b[0;34m\u001b[0m\u001b[0;34m\u001b[0m\u001b[0m\n\u001b[0m\u001b[1;32m      8\u001b[0m     \u001b[0;32mreturn\u001b[0m \u001b[0mresult\u001b[0m\u001b[0;34m\u001b[0m\u001b[0;34m\u001b[0m\u001b[0m\n\u001b[1;32m      9\u001b[0m \u001b[0mi\u001b[0m\u001b[0;34m=\u001b[0m\u001b[0mfindMedian\u001b[0m\u001b[0;34m(\u001b[0m\u001b[0minp\u001b[0m\u001b[0;34m,\u001b[0m\u001b[0mx\u001b[0m\u001b[0;34m)\u001b[0m\u001b[0;34m\u001b[0m\u001b[0;34m\u001b[0m\u001b[0m\n",
            "\u001b[0;31mTypeError\u001b[0m: list indices must be integers or slices, not float"
          ]
        }
      ]
    }
  ]
}