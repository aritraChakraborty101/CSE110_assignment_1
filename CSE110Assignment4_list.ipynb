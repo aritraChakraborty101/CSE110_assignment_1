{
  "nbformat": 4,
  "nbformat_minor": 0,
  "metadata": {
    "kernelspec": {
      "display_name": "Python 3",
      "language": "python",
      "name": "python3"
    },
    "language_info": {
      "codemirror_mode": {
        "name": "ipython",
        "version": 3
      },
      "file_extension": ".py",
      "mimetype": "text/x-python",
      "name": "python",
      "nbconvert_exporter": "python",
      "pygments_lexer": "ipython3",
      "version": "3.7.6"
    },
    "colab": {
      "provenance": [],
      "include_colab_link": true
    }
  },
  "cells": [
    {
      "cell_type": "markdown",
      "metadata": {
        "id": "view-in-github",
        "colab_type": "text"
      },
      "source": [
        "<a href=\"https://colab.research.google.com/github/aritraChakraborty101/CSE110_assignment_1/blob/main/CSE110Assignment4_list.ipynb\" target=\"_parent\"><img src=\"https://colab.research.google.com/assets/colab-badge.svg\" alt=\"Open In Colab\"/></a>"
      ]
    },
    {
      "cell_type": "markdown",
      "metadata": {
        "id": "xDNsncrtU1yM"
      },
      "source": [
        "# CSE110 Lab Assignment 4 (List)\n",
        "\n",
        "This Assignment is to help you develop your concept of Lists in Python.\n",
        "\n",
        "**<font color='red'>[Please follow variable naming conventions including using meaningful variable names for all the tasks]</font>**\\\n",
        "<font color='red'>When you run your code, please make sure your outputs exactly match the sample outputs for each of the sample inputs given. Check if your code works for other valid inputs not given in the samples.</font>\n",
        "\n",
        "## Write the code in Python to do the following tasks:"
      ]
    },
    {
      "cell_type": "markdown",
      "metadata": {
        "id": "gh4GUDaIU1yO"
      },
      "source": [
        "\n",
        "\n",
        "\n",
        "\n",
        "\n",
        "\n",
        "##Write your name, student ID and CSE110 theory section number below:\n",
        "\n",
        "\n",
        "\n",
        "\n",
        "\n"
      ]
    },
    {
      "cell_type": "code",
      "metadata": {
        "id": "OAYfzLIqgqyE"
      },
      "source": [
        "#Write your name, student ID and theory section number below:\n",
        "#Student Name: Aritra Chakraborty\n",
        "#Student ID: 22101892\n",
        "#CSE110 Theory Section No: 37"
      ],
      "execution_count": null,
      "outputs": []
    },
    {
      "cell_type": "markdown",
      "metadata": {
        "id": "pbdeIVcyU1yi"
      },
      "source": [
        "### Task 1\n",
        "Write a Python program that reads 5 numbers from the user into a list. After reading each number, print all the numbers that have been entered so far in the list. \n",
        "\n",
        "**Example:**\\\n",
        "If the user enters 3, prints “Numbers in the list: [3]”\\\n",
        "If the user enters 5 next, prints “Numbers in the list: [3, 5]”\\\n",
        "If the user enters 34, prints “Numbers in the list: [3, 5, 34]”\\\n",
        "If the user then enters -11, prints “Numbers in the list: [3, 5, 34, -11]”\\\n",
        "Finally, if the user enters 0 as the last number, prints “Numbers in the list: [3, 5, 34, -11, 0]”"
      ]
    },
    {
      "cell_type": "code",
      "metadata": {
        "id": "A5df9pmJU1yj",
        "colab": {
          "base_uri": "https://localhost:8080/"
        },
        "outputId": "1f4da0c4-f35f-4ef7-dbcf-7d1f26e3921b"
      },
      "source": [
        "count=0\n",
        "new_list=[]\n",
        "\n",
        "while count<5:\n",
        "  inp=int(input(\"Enter your number \"))\n",
        "  count+=1\n",
        "  new_list.append(inp)\n",
        "  print(f\"Numbers in the list:{new_list}\")\n",
        "\n"
      ],
      "execution_count": null,
      "outputs": [
        {
          "output_type": "stream",
          "name": "stdout",
          "text": [
            "Enter your number 1\n",
            "Numbers in the list:[1]\n",
            "Enter your number 2\n",
            "Numbers in the list:[1, 2]\n",
            "Enter your number 3\n",
            "Numbers in the list:[1, 2, 3]\n",
            "Enter your number 4\n",
            "Numbers in the list:[1, 2, 3, 4]\n",
            "Enter your number 5\n",
            "Numbers in the list:[1, 2, 3, 4, 5]\n"
          ]
        }
      ]
    },
    {
      "cell_type": "markdown",
      "metadata": {
        "id": "ZrjtT-I_U1zD"
      },
      "source": [
        "### Task 2\n",
        "\n",
        "Write a Python program that takes a list as an input from the user, then creates a new list excluding the first and last two elements of the given list and prints the new list. If there are not enough elements in the list to do the task, print \"Not possible\".\n",
        "\n",
        "**Note:** You may use list slicing.\n",
        "\n",
        "===================================================================\n",
        "\n",
        "**Sample Input 1:**<br/>\n",
        "[10, 20, 24, 25, 26, 35, 70]<br/>\n",
        "\n",
        "**Sample Output 1:**<br/>\n",
        "[24, 25, 26]<br/>\n",
        "\n",
        "===================================================================\n",
        "\n",
        "**Sample Input 2:**<br/>\n",
        "[10, 20, 24, 25, 26]<br/>\n",
        "\n",
        "**Sample Output 2:**<br/>\n",
        "[24]<br/>\n",
        "\n",
        "===================================================================\n",
        "\n",
        "**Sample Input 3:**<br/>\n",
        "[10, 20, 24, 25]<br/>\n",
        "\n",
        "**Sample Output 3:**<br/>\n",
        "[]<br/>\n",
        "\n",
        "===================================================================\n",
        "\n",
        "**Sample Input 4:**<br/>\n",
        "[10, 20, 24]<br/>\n",
        "\n",
        "**Sample Output 4:**<br/>\n",
        "Not possible<br/>\n",
        "\n",
        "==================================================================="
      ]
    },
    {
      "cell_type": "code",
      "metadata": {
        "id": "3r7Ripj7U1zE",
        "colab": {
          "base_uri": "https://localhost:8080/"
        },
        "outputId": "4a02339d-cdbd-462c-f52a-182e20fe2ff4"
      },
      "source": [
        "#todo\n",
        "inp=input(\"Enter your number \")\n",
        "inp=inp[1:-1].split(\", \")\n",
        "new_list=[]\n",
        "\n",
        "#converting strings in the list to integer\n",
        "\n",
        "for i in range(len(inp)):\n",
        "  inp[i]=int(inp[i])\n",
        "\n",
        "# Checking condition and pushing to the list\n",
        "if len(inp)<=3:\n",
        "     print(\"Not possible\")\n",
        "else:\n",
        "    for i in range(2,len(inp)-2):\n",
        "       new_list.append(inp[i])\n",
        "    print(new_list)     \n",
        "     \n",
        "    \n"
      ],
      "execution_count": null,
      "outputs": [
        {
          "output_type": "stream",
          "name": "stdout",
          "text": [
            "Enter your number [10, 20, 24, 25, 26, 35, 70]\n",
            "[24, 25, 26]\n"
          ]
        }
      ]
    },
    {
      "cell_type": "markdown",
      "metadata": {
        "id": "AWgZaBZCzmaM"
      },
      "source": [
        "### Task 3\n",
        "\n",
        "Write a python program that reads 5 numbers from the user into a list, and then prints them in the reverse order.\n",
        "\n",
        "*Hint: You may create a list to store the input numbers and then use loop to print them in reverse order*\n",
        "\n",
        "===================================================================\n",
        "\n",
        "**Sample Input:**\\\n",
        "5\\\n",
        "-5\\\n",
        "100\\\n",
        "1\\\n",
        "0\n",
        "\n",
        "**Sample Output:**\\\n",
        "Input data: [5, -5, 100, 1, 0]\\\n",
        "Printing values from the list in reverse order:\\\n",
        "0\\\n",
        "1\\\n",
        "100\\\n",
        "-5\\\n",
        "5\n",
        "\n",
        "==================================================================="
      ]
    },
    {
      "cell_type": "code",
      "metadata": {
        "id": "ICW-03YOznTp",
        "colab": {
          "base_uri": "https://localhost:8080/"
        },
        "outputId": "c7dd2153-b4a3-4ee7-c049-08ad80bb1797"
      },
      "source": [
        "#todo\n",
        "count=0\n",
        "result_list=[]\n",
        "\n",
        "#Taking input for 5 times and pushing them to the list\n",
        "while count<5:\n",
        "  user_input = int(input(\"Enter your number\\n\"))\n",
        "  count+=1\n",
        "  result_list.append(user_input)\n",
        "print(\"Input data:\",result_list)\n",
        "\n",
        "print(\"Printing values from the list in reverse order: \")\n",
        "\n",
        "# Reversing the list\n",
        "for i in range(len(result_list)-1,-1,-1):\n",
        " print(result_list[i])\n",
        "\n",
        "\n",
        "\n"
      ],
      "execution_count": null,
      "outputs": [
        {
          "output_type": "stream",
          "name": "stdout",
          "text": [
            "Enter your number\n",
            "5\n",
            "Enter your number\n",
            "-5\n",
            "Enter your number\n",
            "100\n",
            "Enter your number\n",
            "1\n",
            "Enter your number\n",
            "0\n",
            "Input data: [5, -5, 100, 1, 0]\n",
            "Printing values from the list in reverse order: \n",
            "0\n",
            "1\n",
            "100\n",
            "-5\n",
            "5\n"
          ]
        }
      ]
    },
    {
      "cell_type": "markdown",
      "metadata": {
        "id": "4pBLPmvre0jv"
      },
      "source": [
        "### Task 4\n",
        "\n",
        "Write a Python program that turns every item of a list into its square. [Your program should work for any lists; make changes to the lists below and check whether your program works correctly]\n",
        "\n",
        "===================================================================\n",
        "\n",
        "**Given list 1:**\\\n",
        "[1, 2, 3, 4, 5, 6, 7]\n",
        "\n",
        "**Sample Output 1:**\\\n",
        "[1, 4, 9, 16, 25, 36, 49]\n",
        "\n",
        "===================================================================\n",
        "\n",
        "**Given list 2:**\\\n",
        "[3, 5, 1, 6]\n",
        "\n",
        "**Sample Output 2:**\\\n",
        "[9, 25, 1, 36]\n",
        "\n",
        "\n",
        "===================================================================\n",
        "\n",
        "\n",
        "\n",
        "\n",
        "\n"
      ]
    },
    {
      "cell_type": "code",
      "metadata": {
        "id": "5NDg0odDfANt",
        "colab": {
          "base_uri": "https://localhost:8080/"
        },
        "outputId": "8e5fe19d-923f-4eec-89b0-bb9210fd3458"
      },
      "source": [
        "#todo\n",
        "\n",
        "new_list=[]\n",
        "given_list=[1, 2, 3, 4, 5, 6, 7]\n",
        " \n",
        "# Converting each element tp its square form\n",
        "for i in range(len(given_list)):\n",
        "  new_list.append(int(given_list[i])**2)\n",
        "\n",
        "print(new_list)\n",
        "\n",
        "\n",
        "\n"
      ],
      "execution_count": null,
      "outputs": [
        {
          "output_type": "stream",
          "name": "stdout",
          "text": [
            "[1, 4, 9, 16, 25, 36, 49]\n"
          ]
        }
      ]
    },
    {
      "cell_type": "markdown",
      "metadata": {
        "id": "G9jPuLWOetqd"
      },
      "source": [
        "### Task 5\n",
        "\n",
        "\n",
        "Write a Python program that removes all Empty strings from a **given list** and prints the modified list. [Your program should work for any given list; make changes to the list below and check whether your program works correctly]\n",
        "\n",
        "=========================================================================\n",
        "\n",
        "**Given List:**\n",
        "\n",
        "[\"hey\", \"there\", \"\", \"what's\", \"\", \"up\", \"\", \"?\"]\n",
        "\n",
        "**Sample Output:**\n",
        "\n",
        "Original List:\n",
        "['hey', 'there', '', \"what's\", '', 'up', '', '?']\n",
        "\n",
        "Modified List:\n",
        "['hey', 'there', \"what's\", 'up', '?']\n",
        "\n",
        "==========================================================================\n",
        "\n",
        "\n"
      ]
    },
    {
      "cell_type": "code",
      "source": [
        "inp=[\"hey\", \"there\", \"\", \"what's\", \"\", \"up\", \"\", \"?\"]\n",
        "empty_string=\"\"\n",
        "new_list=[]\n",
        "for i in range(len(inp)):\n",
        "  if inp[i] == empty_string:  \n",
        "    pass\n",
        "  else:\n",
        "    new_list.append(inp[i])\n",
        "\n",
        "print(\"Original List: \",inp)\n",
        "print(\"Modified List: \",new_list)\n",
        "\n"
      ],
      "metadata": {
        "colab": {
          "base_uri": "https://localhost:8080/"
        },
        "id": "nAmvH6bvK6Uu",
        "outputId": "77f94a7c-ff68-4fa7-a833-ab9f2ea10c55"
      },
      "execution_count": null,
      "outputs": [
        {
          "output_type": "stream",
          "name": "stdout",
          "text": [
            "Original List:  ['hey', 'there', '', \"what's\", '', 'up', '', '?']\n",
            "Modified List:  ['hey', 'there', \"what's\", 'up', '?']\n"
          ]
        }
      ]
    },
    {
      "cell_type": "markdown",
      "metadata": {
        "id": "wfcSytFVU1zU"
      },
      "source": [
        "### Task 6\n",
        "\n",
        "Write a Python program that reads a string containing 7 numbers separated by commas, then makes a list of those numbers and prints the **largest number** and its location or index position in the list. <font color='red'>[You are not allowed to use the max(), sort(), sorted() function here]</font>\n",
        "\n",
        "[Your program should work for any given list; make changes to the list below and check whether your program works correctly]\n",
        "\n",
        "**Hint:** You may assume the first input to be the largest value initially and the largest value’s location to be 0.\n",
        "\n",
        "**Note:** You may need to be careful while printing the output. Depending on your code, you might need data conversion.\n",
        "\n",
        "===================================================================\n",
        "\n",
        "**Sample Input:**\\\n",
        " \"7, 13, 2, 10, 6, -11, 0\"\n",
        "\n",
        "**Sample Output:**\\\n",
        "My list: [7, 13, 2, 10, 6, -11, 0]\\\n",
        "Largest number in the list is 13 which was found at index 1.\n",
        "\n",
        "==================================================================="
      ]
    },
    {
      "cell_type": "code",
      "source": [
        "inp=\"7, 13, 2, 10, 6, -11, 0\"\n",
        "my_list=inp.split(\",\")\n",
        "max_num=None\n",
        "\n",
        "# Converting strings into integer\n",
        "for i in range(0,len(my_list)):\n",
        "  my_list[i]=int(my_list[i])\n",
        "print(\"My list:\",my_list)\n",
        "\n",
        "# finding largest number\n",
        "for j in range(len(my_list)):\n",
        "  if j==0:\n",
        "    max_num=my_list[0]\n",
        "  else:\n",
        "    if max_num<my_list[j]:\n",
        "      max_num=my_list[j] \n",
        "\n",
        "\n",
        "print(f\"Largest number in the list is {max_num} which was found at index {my_list.index(max_num)}.\")\n",
        "\n",
        "\n",
        "\n",
        "      \n"
      ],
      "metadata": {
        "colab": {
          "base_uri": "https://localhost:8080/"
        },
        "id": "OPKWddWw9RvG",
        "outputId": "b1c7243b-119c-45fb-d6bf-2c4ffe1a9cea"
      },
      "execution_count": null,
      "outputs": [
        {
          "output_type": "stream",
          "name": "stdout",
          "text": [
            "My list: [7, 13, 2, 10, 6, -11, 0]\n",
            "Largest number in the list is 13 which was found at index 1.\n"
          ]
        }
      ]
    },
    {
      "cell_type": "markdown",
      "metadata": {
        "id": "UjTy79X6ewce"
      },
      "source": [
        "## Task 7\n",
        "\n",
        "Suppose you have been given two lists. Write a Python program that replaces the last element of the first list with the second list. [Your program should work for any two given lists; make changes to the lists below and check whether your program works correctly]\n",
        "\n",
        "\n",
        "===================================================================\n",
        "\n",
        "**Sample given lists 1:**\\\n",
        "List_one : [1, 4, 7, 5]\\\n",
        "List_two : [6, 1, 3, 9]\n",
        "\n",
        "**Sample Output 1:**\\\n",
        "[1, 4, 7, 6, 1, 3, 9]\n",
        "\n",
        "===================================================================\n",
        "\n",
        "**Sample given lists 2:**\\\n",
        "List_one : [1, 3, 5, 7, 9, 10]\\\n",
        "List_two : [2, 4, 6, 8]\n",
        "\n",
        "**Sample Output 2:**\\\n",
        "[1, 3, 5, 7, 9, 2, 4, 6, 8]\n",
        "\n",
        "===================================================================\n",
        "\n",
        "\n",
        "\n"
      ]
    },
    {
      "cell_type": "code",
      "source": [
        "#Todo\n",
        "\n",
        "first_list = [1, 3, 5, 7, 9, 10]\n",
        "second_list = [2, 4, 6, 8]\n",
        "first_list_new=[]\n",
        "second_list_new=[]\n",
        "\n",
        "# The following \"integer converting\" process is not necessary for current input.\n",
        "# its necessary if input use .split() function \n",
        "\n",
        "# For first list\n",
        "for i in range(len(first_list)-1):\n",
        "  first_list_new.append(int(first_list[i]))\n",
        "\n",
        "#for second list\n",
        "for j in range(len(second_list)):\n",
        "  second_list_new.append(int(second_list[j]))\n",
        "\n",
        "print(first_list_new + second_list_new)\n"
      ],
      "metadata": {
        "colab": {
          "base_uri": "https://localhost:8080/"
        },
        "id": "w_sToK1IV0jB",
        "outputId": "2c238f13-7a0c-430a-dccf-4215e89fe5cd"
      },
      "execution_count": null,
      "outputs": [
        {
          "output_type": "stream",
          "name": "stdout",
          "text": [
            "[1, 3, 5, 7, 9, 2, 4, 6, 8]\n"
          ]
        }
      ]
    },
    {
      "cell_type": "markdown",
      "metadata": {
        "id": "7a_1pYjfU1zI"
      },
      "source": [
        "### Task 8\n",
        "Assume, you have been given two lists. [Your program should work for any two given lists; change the following lists and check whether your program works correctly for the code you have written]\n",
        "\n",
        "list_one = [1, 2, 3, 4, 5, 6, 7, 8, 9]\\\n",
        "list_two = [10, 11, 12, -13, -14, -15, -16]\n",
        "\n",
        "Write a Python program that creates a new list with all the **even elements** of both of the given lists and prints the new list.\n",
        "\n",
        "**Hint:** You may create a third list to store the even elements of the given lists.\n",
        "\n",
        "===================================================================\n",
        "\n",
        "**Output for the above lists:** [2, 4, 6, 8, 10, 12, -14, -16]\n",
        "\n",
        "==================================================================="
      ]
    },
    {
      "cell_type": "code",
      "metadata": {
        "id": "vToa7yazU1zI",
        "colab": {
          "base_uri": "https://localhost:8080/"
        },
        "outputId": "a49b353f-3520-4d4e-e9f3-bf60d88662aa"
      },
      "source": [
        "#todo\n",
        "list_one=input(\"First list \").split()\n",
        "list_two=input(\"Second list \").split()\n",
        "new_list=[]\n",
        "\n",
        "# for list_one\n",
        "for i in range(len(list_one)):\n",
        "  if int(list_one[i])%2==0:\n",
        "    new_list.append(int(list_one[i]))   \n",
        "\n",
        "# for list_two\n",
        "for i in range(len(list_two)):\n",
        "  if int(list_two[i])%2==0:\n",
        "    new_list.append(int(list_two[i]))\n",
        "\n",
        "print(new_list)"
      ],
      "execution_count": null,
      "outputs": [
        {
          "output_type": "stream",
          "name": "stdout",
          "text": [
            "First list 1 2 3 4 5 6 7 8 9\n",
            "Second list 10 11 12 -13 -14 -15 -16\n",
            "[2, 4, 6, 8, 10, 12, -14, -16]\n"
          ]
        }
      ]
    },
    {
      "cell_type": "markdown",
      "metadata": {
        "id": "vyFt-Ra5erR4"
      },
      "source": [
        "### Task 9\n",
        "\n",
        "Write a Python program that reads a string as an input from the user where multiple numbers are separated by spaces. Then, make a list of numbers from the input string without using the split() function and print the list. Finally, remove all the occurences of **even numbers** from the same input list and print the modified list.\n",
        "\n",
        "\n",
        "=========================================================================\n",
        "\n",
        "**Sample Input:**\n",
        "\n",
        "7 12 4 55 96 2 11 61 33 42\n",
        "\n",
        "**Sample Output:**\n",
        "\n",
        "Original list: [7, 12, 4, 55, 96, 2, 11, 61, 33, 42]\\\n",
        "Modified list: [7, 55, 11, 61, 33]\n",
        "\n",
        "=========================================================================\n",
        "\n",
        "\n",
        "\n"
      ]
    },
    {
      "cell_type": "code",
      "metadata": {
        "id": "fcPie0yUEBj6",
        "colab": {
          "base_uri": "https://localhost:8080/"
        },
        "outputId": "7211f919-a0d1-438d-d88e-e80762c21bb5"
      },
      "source": [
        "#todo\n",
        "inp_str=input(\"Enter your list: \")\n",
        "buffer=''\n",
        "result_list=[]\n",
        "rmv=0\n",
        "ln=len(inp_str)\n",
        "\n",
        "# Coverting strings into list\n",
        "for i in range(ln):\n",
        "  if i ==ln-1:\n",
        "   buffer+=inp_str[i]\n",
        "   result_list.append(int(buffer))\n",
        "   break\n",
        "  if inp_str[i]==\" \":\n",
        "     result_list.append(int(buffer))\n",
        "     buffer=''\n",
        "  else:\n",
        "      buffer+=inp_str[i]\n",
        "print(\"Original list:\",result_list)\n",
        "\n",
        "\n",
        "# Removing even numbers\n",
        "while rmv < len(result_list):\n",
        "  if result_list[rmv]%2==0:\n",
        "    result_list.remove(result_list[rmv])\n",
        "    rmv = 0\n",
        "  else:\n",
        "    rmv+=1\n",
        "\n",
        "print(\"Modified list:\",result_list)\n",
        "\n",
        "\n",
        "\n"
      ],
      "execution_count": null,
      "outputs": [
        {
          "output_type": "stream",
          "name": "stdout",
          "text": [
            "Enter your list: 7 12 4 55 96 2 11 61 33 42\n",
            "Original list: [7, 12, 4, 55, 96, 2, 11, 61, 33, 42]\n",
            "Modified list: [7, 55, 11, 61, 33]\n"
          ]
        }
      ]
    },
    {
      "cell_type": "markdown",
      "metadata": {
        "id": "QaD4hLn92EKT"
      },
      "source": [
        "### Task 10\n",
        "Write a Python program that reads a string as an input from the user where multiple numbers are separated by commas. Then, make a list of numbers from the input string and print the list. Finally, remove multiple occurences of any numbers from the input list and print the modified list **without duplicate values**.\n",
        "\n",
        "*Hint: You may create a third list to store the results but you may try doing it in the same input list. You can use membership operators (in, not in) to make sure no duplicates are added.*\n",
        "\n",
        "===================================================================\n",
        "\n",
        "**Sample Input 1:**<br/>\n",
        "0, 0, 1, 2, 3, 4, 4, 5, 6, 6, 6, 7, 8, 9, 4, 4<br/>\n",
        "\n",
        "\n",
        "**Sample Output 1:**<br/>\n",
        "Input list: [0, 0, 1, 2, 3, 4, 4, 5, 6, 6, 6, 7, 8, 9, 4, 4]\\\n",
        "Modified list: [0, 1, 2, 3, 4, 5, 6, 7, 8, 9]\n",
        "\n",
        "===================================================================\n",
        "\n",
        "**Sample Input 2:**<br/>\n",
        "7, 7, 7, 1, 0, 3, 3, 55, 9<br/>\n",
        "\n",
        "\n",
        "**Sample Output 2:**<br/>\n",
        "Input list: [7, 7, 7, 1, 0, 3, 3, 55, 9]\\\n",
        "Modified list: [7, 1, 0, 3, 55, 9]\n",
        "\n",
        "==================================================================="
      ]
    },
    {
      "cell_type": "code",
      "metadata": {
        "id": "EUbQbz5hU1zP",
        "colab": {
          "base_uri": "https://localhost:8080/"
        },
        "outputId": "bb531836-1a9c-447c-d1ce-76b5773dbc88"
      },
      "source": [
        "#todo\n",
        "inp=input(\"Enter your number \").split(\", \")\n",
        "input_list=[]\n",
        "modified_list=[]\n",
        "new_list=[]\n",
        "buffer=None\n",
        "\n",
        "# converting each string to number \n",
        "for i in range(len(inp)):\n",
        "  input_list.append(int(inp[i])) \n",
        "print(\"Input list:\",input_list)\n",
        "\n",
        "# checking duplicate\n",
        "for j in range(len(input_list)):\n",
        "  if j ==0:\n",
        "    buffer=input_list[j]\n",
        "    modified_list.append(input_list[j])\n",
        "  else:\n",
        "    if buffer!=input_list[j]:\n",
        "      modified_list.append(input_list[j])\n",
        "      buffer=input_list[j]\n",
        "print(\"Modified list:\",modified_list)\n",
        "\n",
        "\n",
        "\n",
        "\n",
        "\n",
        "\n"
      ],
      "execution_count": null,
      "outputs": [
        {
          "output_type": "stream",
          "name": "stdout",
          "text": [
            "Enter your number 7, 7, 7, 1, 0, 3, 3, 55, 9\n",
            "Input list: [7, 7, 7, 1, 0, 3, 3, 55, 9]\n",
            "Modified list: [7, 1, 0, 3, 55, 9]\n"
          ]
        }
      ]
    },
    {
      "cell_type": "markdown",
      "metadata": {
        "id": "bvF30RQlemBW"
      },
      "source": [
        "### Task 11\n",
        "Assume, you have been given two lists: List_one and List_two. [Your program should work for any two given lists; change the following lists and check whether your program works correctly for the code you have written]\n",
        "\n",
        "Write a Python program that prints \"True\", if the given two lists have at least one common member. Otherwise, print \"False\". \n",
        "\n",
        "Note: Please use concepts of flag and break to solve this task.\n",
        "\n",
        "===================================================================\n",
        "\n",
        "**Given lists 1:**\\\n",
        "List_one : [1, 4, 3, 2, 6]\\\n",
        "List_two : [5, 6, 9, 8, 7]\n",
        "\n",
        "**Sample Output 1:**\\\n",
        "True\n",
        "\n",
        "===================================================================\n",
        "\n",
        "**Given lists 2:**\\\n",
        "List_one : [1, 4, 3, 2, 5]\\\n",
        "List_two : [8, 7, 6, 9]\n",
        "\n",
        "**Sample Output 2:**\\\n",
        "False\n",
        "\n",
        "===================================================================\n"
      ]
    },
    {
      "cell_type": "code",
      "metadata": {
        "id": "LEnaTlyoMJdS",
        "colab": {
          "base_uri": "https://localhost:8080/"
        },
        "outputId": "beac23db-5fae-4433-9bc6-a0d4bea86c96"
      },
      "source": [
        "#todo\n",
        "list_one=[1, 5]\n",
        "list_two=[8, 7, 6, 9]\n",
        "\n",
        "\n",
        "flag = False\n",
        "for i in list_one:\n",
        "  if i in list_two:\n",
        "    flag = True\n",
        "    break\n",
        "\n",
        "if flag:\n",
        "  print(\"True\")\n",
        "else:\n",
        "  print(\"False\") \n",
        "    \n",
        "    \n",
        "\n"
      ],
      "execution_count": null,
      "outputs": [
        {
          "output_type": "stream",
          "name": "stdout",
          "text": [
            "False\n"
          ]
        }
      ]
    },
    {
      "cell_type": "markdown",
      "metadata": {
        "id": "WZXnxHTdGrMC"
      },
      "source": [
        "## Optional Tasks (12-17) [Ungraded]"
      ]
    },
    {
      "cell_type": "markdown",
      "metadata": {
        "id": "nwRZ3_0tC3fq"
      },
      "source": [
        "### Task 12\n",
        "\n",
        "\n",
        "Write a Python program that reads 7 numbers into a list and prints the **second largest number** and its location or index position on the list. <font color='red'>[You are not allowed to use the max(), sort(), sorted() function here]</font>\n",
        "\n",
        "===================================================================\n",
        "\n",
        "**Sample Input:**\\\n",
        " 7, 13, 2, 10, 6, -11, 0\n",
        "\n",
        "**Sample Output:**\\\n",
        "My list: [7, 13, 2, 10, 6, -11, 0]\\\n",
        "Second largest number in the list is 10 which was found at index 3.\n",
        "\n",
        "===================================================================\n",
        "\n"
      ]
    },
    {
      "cell_type": "code",
      "metadata": {
        "id": "2fhPNFKGEOKi",
        "colab": {
          "base_uri": "https://localhost:8080/"
        },
        "outputId": "6866e459-5bc6-41e0-82f1-4d05f39aaabd"
      },
      "source": [
        "#todo\n",
        "my_list=[]\n",
        "i=0\n",
        "max_num=None\n",
        "sec_max=None\n",
        "\n",
        "#pushing number to the list\n",
        "for i in range(7):\n",
        "  inp=input(\"Enter your number \")\n",
        "  my_list.append(int(inp))\n",
        "\n",
        "  #finding largest number\n",
        "  if i==0:\n",
        "    max_num=int(inp)\n",
        "  else:\n",
        "    if int(inp)>max_num:\n",
        "      max_num=int(inp)\n",
        " \n",
        "# finding second largest number from the list\n",
        "for i in range(len(my_list)):\n",
        "  if my_list[i]!=max_num:\n",
        "    if i ==0:\n",
        "      sec_max=my_list[i]\n",
        "    else:\n",
        "      if sec_max<my_list[i]:\n",
        "        sec_max=my_list[i]\n",
        "\n",
        "\n",
        "print(\"My list:\",my_list)\n",
        "print(f\"Second largest number in the list is {sec_max} which was found at index {my_list.index(sec_max)}.\")\n",
        "\n",
        "\n",
        "\n",
        "\n",
        "\n"
      ],
      "execution_count": null,
      "outputs": [
        {
          "output_type": "stream",
          "name": "stdout",
          "text": [
            "Enter your number -5\n",
            "Enter your number 10\n",
            "Enter your number -2\n",
            "Enter your number 30\n",
            "Enter your number 35\n",
            "Enter your number 21\n",
            "Enter your number 7\n",
            "My list: [-5, 10, -2, 30, 35, 21, 7]\n",
            "Second largest number in the list is 30 which was found at index 3.\n"
          ]
        }
      ]
    },
    {
      "cell_type": "markdown",
      "metadata": {
        "id": "lvSiLaobU1zY"
      },
      "source": [
        "### Task 13\n",
        "\n",
        "Write a Python program that reads 5 numbers into a list and prints the smallest and largest number and their locations in the list. <font color='red'>[You are not allowed to use the max(), min(), sort(), sorted() functions here]</font>\n",
        "\n",
        "**Hint:** You may assume the first input to be the largest value initially and the largest value’s location to be 0. Similarly, you can assume the first input to be the smallest value initially and the smallest value’s location to be 0. \n",
        "\n",
        "**Note:** You may need to be careful while printing the output. Depending on your code, you might need data conversion.\n",
        "\n",
        "===================================================================\n",
        "\n",
        "**Sample Input:**\\\n",
        "7, 13, -5, 10, 6\n",
        "\n",
        "**Sample Output:**\\\n",
        "My list: [7, 13, -5, 10, 6]\\\n",
        "Smallest number in the list is -5 which was found at index 2\\\n",
        "Largest number in the list is 13 which was found at index 1\n",
        "\n",
        "==================================================================="
      ]
    },
    {
      "cell_type": "code",
      "metadata": {
        "id": "yiS5TWSDU1zY",
        "colab": {
          "base_uri": "https://localhost:8080/"
        },
        "outputId": "d7ab61ef-1b7e-4c5c-f244-ccff1548a9d4"
      },
      "source": [
        "#todo\n",
        "user_input= input (\"Enter your number \").split(\",\")\n",
        "new_list=[]\n",
        "max_num=None\n",
        "min_num=None\n",
        "\n",
        "# pushing numbers integer form in the list \n",
        "for i in range(len(user_input)):\n",
        "  user_input[i]=(int(user_input[i]))\n",
        "  # finding largest and samllest number in the list\n",
        "  if i ==0:\n",
        "    max_num=int(user_input[i])\n",
        "    min_num=int(user_input[i])\n",
        "  elif int(user_input[i]) > max_num:\n",
        "    max_num=int(user_input[i])\n",
        "  elif int(user_input[i])<min_num:\n",
        "    min_num=int(user_input[i])\n",
        "\n",
        "print(\"My list:\",user_input)\n",
        "print(f\"Smallest number in the list is {min_num} which was found at index {user_input.index(min_num)}\")\n",
        "print(f\"Largest number in the list is {max_num} which was found at index {user_input.index(max_num)}\")\n",
        "\n",
        "\n",
        "\n"
      ],
      "execution_count": null,
      "outputs": [
        {
          "output_type": "stream",
          "name": "stdout",
          "text": [
            "Enter your number 7, 13, -5, 10, 6\n",
            "My list: [7, 13, -5, 10, 6]\n",
            "Smallest number in the list is -5 which was found at index 2\n",
            "Largest number in the list is 13 which was found at index 1\n"
          ]
        }
      ]
    },
    {
      "cell_type": "markdown",
      "metadata": {
        "id": "rguDZ8SBCHD8"
      },
      "source": [
        "### Task 14\n",
        "Write a Python program that takes two lists as an input from the user. Then print a new list with the **common elements** of both the input lists. \n",
        "\n",
        "*Hint: You may need to create a third list to store the results. You can use membership operators (in, not in) to make sure similar elements are added.*\n",
        "\n",
        "===================================================================\n",
        "\n",
        "**Sample Input 1:**<br/>\n",
        "A, B, C, D\n",
        "\n",
        "\n",
        "C, E, F, B\n",
        "\n",
        "\n",
        "**Sample Output 1:**<br/>\n",
        "['C', 'B']\n",
        "\n",
        "===================================================================\n",
        "\n",
        "**Sample Input 2:**<br/>\n",
        "1, 3, A, H, P\n",
        "\n",
        "\n",
        "A, G, 1, P, O\n",
        "\n",
        "\n",
        "**Sample Output 2:**<br/>\n",
        "['1', 'A', 'P']\n",
        "\n",
        "===================================================================\n"
      ]
    },
    {
      "cell_type": "code",
      "metadata": {
        "id": "3iueGiPPGG66",
        "colab": {
          "base_uri": "https://localhost:8080/"
        },
        "outputId": "db824a23-ea9f-4f1e-a601-1841a8fc106b"
      },
      "source": [
        "# todo\n",
        "user_input1=input(\"Enter your first list: \").split(\", \")\n",
        "user_input2=input(\"Enter your second list: \").split(\", \")\n",
        "new_list=[]\n",
        "\n",
        "for i in range(len(user_input1)):\n",
        "  for j in range(len(user_input2)):\n",
        "    if user_input1[i]==user_input2[j]:\n",
        "      new_list.append(user_input1[i])\n",
        "\n",
        "print(new_list)\n",
        "\n"
      ],
      "execution_count": null,
      "outputs": [
        {
          "output_type": "stream",
          "name": "stdout",
          "text": [
            "Enter your first list 1, 3, A, H, P\n",
            "Enter your second list A, G, 1, P, O\n",
            "['1', 'A', 'P']\n"
          ]
        }
      ]
    },
    {
      "cell_type": "markdown",
      "metadata": {
        "id": "tjcE5oitCM2s"
      },
      "source": [
        "### Task 15\n",
        "\n",
        "Assume, you have been given two lists. [Your program should work for any two given lists; make changes to the lists below and check whether your program works correctly]\n",
        "\n",
        "list_one = [1, 2 , 2, 4, 5, 5, 7, 99, 200, 303, 70]\\\n",
        "list_two = [1, 1, 2, 3, 3, 3, 4, 5, 200, 500, -5]\n",
        "\n",
        "Write a Python program that creates a new list with all the **unique elements** of both the given lists. \n",
        "<font color='red'> **You need to make sure that there are no duplicates in the resulting list.**</font> Finally, print the updated list.\n",
        "\n",
        "**Hint:** You may create a third list to store the results. You can use membership operators (in, not in) to make sure no duplicates are added.\n",
        "\n",
        "===================================================================\n",
        "\n",
        "**Output for the above two lists**: \n",
        "[1, 2, 4, 5, 7, 99, 200, 303, 70, 3, 500, -5]\n",
        "\n",
        "==================================================================="
      ]
    },
    {
      "cell_type": "code",
      "source": [
        "list_1=[1, 2 , 2, 4, 5, 5, 7, 99, 200, 303, 70]\n",
        "list_2=[1, 1, 2, 3, 3, 3, 4, 5, 200, 500, -5]\n",
        "final_list=[]\n",
        "\n",
        "# Adding two list\n",
        "new_list=list_1+list_2\n",
        "\n",
        "# removing duplicate from final list\n",
        "for i in new_list:\n",
        "  if i not in final_list:\n",
        "    final_list.append(i)\n",
        "print(final_list)\n",
        "\n"
      ],
      "metadata": {
        "colab": {
          "base_uri": "https://localhost:8080/"
        },
        "id": "sY2ttzttSevC",
        "outputId": "956c0e13-dd2a-4134-f256-3a6365857897"
      },
      "execution_count": null,
      "outputs": [
        {
          "output_type": "stream",
          "name": "stdout",
          "text": [
            "[1, 2, 4, 5, 7, 99, 200, 303, 70, 3, 500, -5]\n"
          ]
        }
      ]
    },
    {
      "cell_type": "markdown",
      "metadata": {
        "id": "A1GQ4lem2We7"
      },
      "source": [
        "### Task 16\n",
        "\n",
        "Write a python program to take a list as a string input from the user and print it back to the user as a list. Please look at the examples below for clarification. \n",
        "\n",
        "**<font color='red'>[Must use string split() and strip() functions]</font>**\n",
        "\n",
        "================================================================\n",
        "\n",
        "**Sample Input 1:**\\\n",
        "'1, &nbsp; &nbsp;&nbsp; &nbsp; 2  ,&nbsp; &nbsp;&nbsp; &nbsp;&nbsp; &nbsp;&nbsp; &nbsp;3, 50, 4'\n",
        "\n",
        "**Sample Output 1:**\\\n",
        "Original data: '1, &nbsp; &nbsp;&nbsp; &nbsp; 2  ,&nbsp; &nbsp;&nbsp; &nbsp;&nbsp; &nbsp;&nbsp; &nbsp;3, 50, 4'\\\n",
        "After removing square brackets: 1, &nbsp; &nbsp;&nbsp; &nbsp; 2  ,&nbsp; &nbsp;&nbsp; &nbsp;&nbsp; &nbsp;&nbsp; &nbsp;3, 50, 4\\\n",
        "Numbers in string format with extra white spaces: ['1', '&nbsp; &nbsp;&nbsp; &nbsp; 2'  ,'&nbsp; &nbsp;&nbsp; &nbsp;&nbsp; &nbsp;&nbsp; &nbsp;3', '50', '4']\\\n",
        "Final data (numbers in list format): [1, 2, 3, 50, 4]\n",
        "                \n",
        "                \n",
        "================================================================\n",
        "                \n",
        "  \n",
        "**Sample Input 2:**\n",
        "'[1,&nbsp; &nbsp;&nbsp; &nbsp;2&nbsp; &nbsp;,&nbsp; &nbsp;&nbsp; &nbsp;&nbsp; &nbsp;&nbsp; &nbsp;3, 50, 4]'\n",
        "\n",
        "**Sample Output 2:**\\\n",
        "Original data: [1,&nbsp; &nbsp;&nbsp; &nbsp;2&nbsp; &nbsp;,&nbsp; &nbsp;&nbsp; &nbsp;&nbsp; &nbsp;&nbsp; &nbsp;3, 50, 4]\\\n",
        "After removing square brackets: 1,&nbsp; &nbsp;&nbsp; &nbsp;2&nbsp; &nbsp;,&nbsp; &nbsp;&nbsp; &nbsp;&nbsp; &nbsp;&nbsp; &nbsp;3, 50, 4\\\n",
        "Numbers in string format with extra white spaces: ['1', '&nbsp; &nbsp;&nbsp; &nbsp;2&nbsp; &nbsp;', '&nbsp; &nbsp;&nbsp; &nbsp;&nbsp; &nbsp;&nbsp; &nbsp;3', '50', '4']\\\n",
        "Final data (numbers in list format): [1, 2, 3, 50, 4]\n",
        "                \n",
        "                \n",
        "================================================================\n",
        "\n",
        "                \n",
        "  \n",
        "**Sample Input 3:**\\\n",
        "\"&nbsp; &nbsp;&nbsp; &nbsp;[1,&nbsp; &nbsp;2&nbsp; &nbsp;,&nbsp; &nbsp;&nbsp; &nbsp;&nbsp; &nbsp;3,&nbsp; &nbsp;50,&nbsp; &nbsp;4]&nbsp; &nbsp;&nbsp; &nbsp;&nbsp; &nbsp;\"\n",
        "\n",
        "**Sample Output 3:**\\\n",
        "Original data: &nbsp; &nbsp;&nbsp; &nbsp;1,&nbsp; &nbsp;2&nbsp; &nbsp;,&nbsp; &nbsp;&nbsp; &nbsp;&nbsp; &nbsp;3,&nbsp; &nbsp;50,&nbsp; &nbsp;4&nbsp; &nbsp;&nbsp; &nbsp;&nbsp; &nbsp;\\\n",
        "After removing square brackets: 1,&nbsp; &nbsp;2&nbsp; &nbsp;,&nbsp; &nbsp;&nbsp; &nbsp;&nbsp; &nbsp;3,&nbsp; &nbsp;50,&nbsp; &nbsp;4\\\n",
        "Numbers in string format with extra white spaces: [' 1', '&nbsp; &nbsp;2&nbsp; &nbsp;', '&nbsp; &nbsp;&nbsp; &nbsp;&nbsp; &nbsp;3', '&nbsp; &nbsp;50', '&nbsp; &nbsp;4']\\\n",
        "Final data (numbers in list format): [1, 2, 3, 50, 4]\n",
        "\n",
        "                \n",
        "================================================================"
      ]
    },
    {
      "cell_type": "code",
      "metadata": {
        "id": "sV24bMYu2WPf",
        "colab": {
          "base_uri": "https://localhost:8080/"
        },
        "outputId": "cb59849c-35d3-4563-ff4f-c97fcfd31f95"
      },
      "source": [
        "#todo\n"
      ],
      "execution_count": null,
      "outputs": [
        {
          "output_type": "stream",
          "name": "stdout",
          "text": [
            "['[1,', '2', ',', '3,', '50,', '4]']\n"
          ]
        }
      ]
    },
    {
      "cell_type": "markdown",
      "metadata": {
        "id": "Ju21t8um2jiS"
      },
      "source": [
        "\n",
        "### Task 17\n",
        "Write a Python program that takes a single string as an input from the user where few numbers are separated by commas. Now, make a list with the numbers of the given string.Then your task is to remove multiple occurences of any number and then finally print the list **without any duplicate values**.\n",
        "\n",
        "*Hint (1): For obtaining the numbers from the string, use split(). For cleaning the data, use strip().*\n",
        "\n",
        "*Hint (2): You may create a third list to store the results. You can use membership operators (in, not in) to make sure no duplicates are added.*\n",
        "\n",
        "===================================================================\n",
        "\n",
        "**Sample Input 1:**<br/>\n",
        "0, 0, 1, 2, 3, 4,&nbsp;&nbsp; &nbsp;&nbsp; 4, 5, 6, 6, 6,&nbsp;&nbsp;&nbsp;&nbsp;&nbsp;&nbsp;7, 8, 9, 4,&nbsp;&nbsp;&nbsp;&nbsp;&nbsp;&nbsp;&nbsp;&nbsp; 4<br/>\n",
        "\n",
        "\n",
        "**Sample Output 1:**<br/>\n",
        "Given numbers in list: [0, 0, 1, 2, 3, 4, 4, 5, 6, 6, 6, 7, 8, 9, 4, 4]\\\n",
        "List without any dupliacte values: [0, 1, 2, 3, 4, 5, 6, 7, 8, 9]<br/>\n",
        "\n",
        "===================================================================\n",
        "\n",
        "**Sample Input 2:**<br/>\n",
        "7, 7, 7, 1, &nbsp;&nbsp;&nbsp;&nbsp;&nbsp;&nbsp;&nbsp;&nbsp;&nbsp;&nbsp;0, 3, 3, &nbsp;&nbsp;55, 9<br/>\n",
        "\n",
        "\n",
        "**Sample Output 2:**<br/>\n",
        "Given numbers in list: [7, 7, 7, 1, 0, 3, 3, 55, 9]\\\n",
        "List without any dupliacte values: [7, 1, 0, 3, 55, 9]<br/>\n",
        "\n",
        "===================================================================\n"
      ]
    },
    {
      "cell_type": "code",
      "metadata": {
        "id": "fCEuh7r_2kgE",
        "colab": {
          "base_uri": "https://localhost:8080/"
        },
        "outputId": "4801ddad-303b-4d8b-954f-27868f9ae536"
      },
      "source": [
        "#todo\n",
        "input_list=\"7, 7, 7, 1,           0, 3, 3,   55, 9\".split(\",\")\n",
        "buffer=None\n",
        "modified_list=[]\n",
        "\n",
        "for i in range(len(input_list)):\n",
        "  input_list[i]=int(input_list[i].strip())\n",
        "\n",
        "print(\"Given numbers in list:\",inp)\n",
        "\n",
        "# Removing duplicate\n",
        "\n",
        "for j in range(len(input_list)):\n",
        "  if j ==0:\n",
        "    buffer=input_list[j]\n",
        "    modified_list.append(input_list[j])\n",
        "  else:\n",
        "    if buffer!=input_list[j]:\n",
        "      modified_list.append(input_list[j])\n",
        "      buffer=input_list[j]\n",
        "print(\"List without any dupliacte values:\",modified_list)\n",
        "\n",
        "\n",
        "\n"
      ],
      "execution_count": null,
      "outputs": [
        {
          "output_type": "stream",
          "name": "stdout",
          "text": [
            "Given numbers in list:      [1,   2   ,         3,   50,   4]        \n",
            "List without any dupliacte values: [7, 1, 0, 3, 55, 9]\n"
          ]
        }
      ]
    }
  ]
}