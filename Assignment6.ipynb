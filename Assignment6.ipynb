{
  "nbformat": 4,
  "nbformat_minor": 0,
  "metadata": {
    "colab": {
      "provenance": [],
      "include_colab_link": true
    },
    "kernelspec": {
      "name": "python3",
      "display_name": "Python 3"
    },
    "language_info": {
      "name": "python"
    }
  },
  "cells": [
    {
      "cell_type": "markdown",
      "metadata": {
        "id": "view-in-github",
        "colab_type": "text"
      },
      "source": [
        "<a href=\"https://colab.research.google.com/github/aritraChakraborty101/CSE110_assignment_1/blob/main/Assignment6.ipynb\" target=\"_parent\"><img src=\"https://colab.research.google.com/assets/colab-badge.svg\" alt=\"Open In Colab\"/></a>"
      ]
    },
    {
      "cell_type": "code",
      "execution_count": null,
      "metadata": {
        "colab": {
          "base_uri": "https://localhost:8080/"
        },
        "id": "CRMP7K6FpUBp",
        "outputId": "021c7223-6c8b-4790-ce77-74f63a89be0d"
      },
      "outputs": [
        {
          "output_type": "stream",
          "name": "stdout",
          "text": [
            "6\n",
            "Even!!\n"
          ]
        }
      ],
      "source": [
        "# Task 1\n",
        "number = int(input())\n",
        "\n",
        "\n",
        "def even_checker(num):\n",
        "    if num % 2 == 0:\n",
        "        return True\n",
        "    else:\n",
        "        return False\n",
        "\n",
        "\n",
        "a = even_checker(number)\n",
        "if a:\n",
        "    print('Even!!')\n",
        "else:\n",
        "    print('Odd!!')"
      ]
    },
    {
      "cell_type": "code",
      "source": [
        "number = int(input())\n",
        "\n",
        "\n",
        "def even_checker(num):\n",
        "    if num % 2 == 0:\n",
        "        return \"Even!!\"\n",
        "    else:\n",
        "        return \"Odd!!\"\n",
        "\n",
        "\n",
        "print(even_checker(4))"
      ],
      "metadata": {
        "colab": {
          "base_uri": "https://localhost:8080/"
        },
        "id": "kArwsjJEXmSC",
        "outputId": "6eac5eb8-7f75-4c9f-c5e2-5ba078ac2ddf"
      },
      "execution_count": null,
      "outputs": [
        {
          "output_type": "stream",
          "name": "stdout",
          "text": [
            "4\n",
            "Even!!\n"
          ]
        }
      ]
    },
    {
      "cell_type": "code",
      "source": [
        "# Task 2\n",
        "num = int(input())\n",
        "\n",
        "\n",
        "def Fibonacci_series(number):\n",
        "    n1, n2 = 0, 1\n",
        "    for i in range(number):\n",
        "        if i < 2:\n",
        "            print(i, end=' ')\n",
        "        else:\n",
        "            new_n = n1 + n2\n",
        "            print(new_n, end=' ')\n",
        "            n1 = n2\n",
        "            n2 = new_n\n",
        "\n",
        "\n",
        "Fibonacci_series(num)"
      ],
      "metadata": {
        "id": "oAEfw1Ssr20A",
        "colab": {
          "base_uri": "https://localhost:8080/"
        },
        "outputId": "64d38d35-b27c-4d40-f860-c6d025a297d3"
      },
      "execution_count": null,
      "outputs": [
        {
          "output_type": "stream",
          "name": "stdout",
          "text": [
            "7\n",
            "0 1 1 2 3 5 8 "
          ]
        }
      ]
    },
    {
      "cell_type": "code",
      "source": [
        "nterms = int(input(\"How many terms? \"))\n",
        "\n",
        "# first two terms\n",
        "n1, n2 = 0, 1\n",
        "count = 0\n",
        "\n",
        "# check if the number of terms is valid\n",
        "if nterms <= 0:\n",
        "   print(\"Please enter a positive integer\")\n",
        "# if there is only one term, return n1\n",
        "elif nterms == 1:\n",
        "   print(\"Fibonacci sequence upto\",nterms,\":\")\n",
        "   print(n1,end='')\n",
        "# generate fibonacci sequence\n",
        "else:\n",
        "   print(\"Fibonacci sequence:\")\n",
        "   while count < nterms:\n",
        "       print(n1,end='')\n",
        "       nth = n1 + n2\n",
        "       # update values\n",
        "       n1 = n2\n",
        "       n2 = nth\n",
        "       count += 1"
      ],
      "metadata": {
        "colab": {
          "base_uri": "https://localhost:8080/"
        },
        "id": "6ZvahduDA2gr",
        "outputId": "5fc63dbd-cea5-400b-d1b5-7f683aca8f7a"
      },
      "execution_count": null,
      "outputs": [
        {
          "output_type": "stream",
          "name": "stdout",
          "text": [
            "How many terms? 7\n",
            "Fibonacci sequence:\n",
            "0112358"
          ]
        }
      ]
    },
    {
      "cell_type": "code",
      "source": [
        "# Task 3\n",
        "\n",
        "def foo_moo(num):\n",
        "    if num % 3 == 0 and num % 2 == 0:\n",
        "        return 'FooMoo'\n",
        "    elif num % 2 == 0:\n",
        "        return 'Foo'\n",
        "    elif num % 3 == 0:\n",
        "        return 'Moo'\n",
        "    else:\n",
        "        return 'Boo'\n",
        "\n",
        "\n",
        "print(foo_moo(8))"
      ],
      "metadata": {
        "id": "i5UqrBxnpbcm",
        "colab": {
          "base_uri": "https://localhost:8080/"
        },
        "outputId": "37e39ad4-4b29-424f-a9dd-70ba3faf4911"
      },
      "execution_count": null,
      "outputs": [
        {
          "output_type": "stream",
          "name": "stdout",
          "text": [
            "Foo\n"
          ]
        }
      ]
    },
    {
      "cell_type": "code",
      "source": [
        "# Task 4\n",
        "words = input()\n",
        "\n",
        "\n",
        "def function_name(String):\n",
        "    lower = 0\n",
        "    upper = 0\n",
        "    for i in range(len(String)):\n",
        "        if 97 <= ord(String[i]) <= 122:\n",
        "            lower += 1\n",
        "        elif 65 <= ord(String[i]) <= 90:\n",
        "            upper += 1\n",
        "    return lower, upper\n",
        "\n",
        "\n",
        "j, k = function_name(words)\n",
        "print(f'No of lower case letters: {j}')\n",
        "print(f'No of upper case letters: {k}')"
      ],
      "metadata": {
        "id": "CSYA-T78qdjv",
        "colab": {
          "base_uri": "https://localhost:8080/"
        },
        "outputId": "3e90182f-cf3d-48fb-bc69-34bc7316c782"
      },
      "execution_count": null,
      "outputs": [
        {
          "output_type": "stream",
          "name": "stdout",
          "text": [
            "Helllo WOrld\n",
            "No of lower case letters: 8\n",
            "No of upper case letters: 3\n"
          ]
        }
      ]
    },
    {
      "cell_type": "code",
      "source": [
        "words = input()\n",
        "\n",
        "\n",
        "def function_name(String):\n",
        "    lower = 0\n",
        "    upper = 0\n",
        "    for i in range(len(String)):\n",
        "        if \"a\" <= String[i] <= \"z\":\n",
        "            lower += 1\n",
        "        elif \"A\" <= String[i] <= \"Z\":\n",
        "            upper += 1\n",
        "    return lower, upper\n",
        "\n",
        "\n",
        "#j, k = function_name(words)\n",
        "function_name(words)\n",
        "print(f'No of lower case letters: {lower}')\n",
        "print(f'No of upper case letters: {k}')"
      ],
      "metadata": {
        "colab": {
          "base_uri": "https://localhost:8080/"
        },
        "id": "rLQNuc8EDKVI",
        "outputId": "edb6a7b7-0f4a-48c8-fab7-def5f13a70c5"
      },
      "execution_count": null,
      "outputs": [
        {
          "output_type": "stream",
          "name": "stdout",
          "text": [
            "Helllo WOrld\n",
            "No of lower case letters: 8\n",
            "No of upper case letters: 3\n"
          ]
        }
      ]
    },
    {
      "cell_type": "code",
      "source": [
        "# Task 5\n",
        "age = int(input('age: '))\n",
        "salary = int(input('Salary: '))\n",
        "job = input('Current job designation: ')\n",
        "\n",
        "\n",
        "def calculate_tax(Age, Salary, Job):\n",
        "    if Age < 18 or Salary < 10000 or Job == 'President':\n",
        "        tax = 0\n",
        "    elif 10000 <= Salary <= 20000:\n",
        "        tax = 0.05\n",
        "    elif Salary > 20000:\n",
        "        tax = 0.1\n",
        "    return tax\n",
        "\n",
        "\n",
        "tax_amount = salary * calculate_tax(age, salary, job)\n",
        "print(tax_amount)"
      ],
      "metadata": {
        "id": "5mJqXr4Aem69"
      },
      "execution_count": null,
      "outputs": []
    },
    {
      "cell_type": "code",
      "source": [
        "# Task 6\n",
        "days = int(input('Days: '))\n",
        "\n",
        "\n",
        "def number_of_days(Days):\n",
        "    years = Days // 365\n",
        "    months = (Days % 365) // 30\n",
        "    remaining_days = Days - (years * 365) - (months * 30)\n",
        "    print(f'{years} years, {months} months and {remaining_days} days')\n",
        "\n",
        "\n",
        "number_of_days(days)"
      ],
      "metadata": {
        "id": "XmEfmj8kg14c",
        "colab": {
          "base_uri": "https://localhost:8080/"
        },
        "outputId": "f9d45728-9cf8-4e80-be79-e5ba35441a32"
      },
      "execution_count": null,
      "outputs": [
        {
          "output_type": "stream",
          "name": "stdout",
          "text": [
            "Days: 4330\n",
            "11 years, 10 months and 15 days\n"
          ]
        }
      ]
    },
    {
      "cell_type": "code",
      "source": [
        "# Task 7\n",
        "Num = int(input())\n",
        "\n",
        "\n",
        "def show_palindrome(num):  \n",
        "    for j in range(1, num + 1):\n",
        "        print(j, end=' ')\n",
        "    for k in range(num - 1, 0, -1):\n",
        "        print(k, end=' ')\n",
        "\n",
        "\n",
        "show_palindrome(Num)"
      ],
      "metadata": {
        "id": "2FnIDHSUkFV2",
        "colab": {
          "base_uri": "https://localhost:8080/"
        },
        "outputId": "a7200ab0-7a5a-44b6-ab8c-c0519e2f6450"
      },
      "execution_count": null,
      "outputs": [
        {
          "output_type": "stream",
          "name": "stdout",
          "text": [
            "7\n",
            "1 2 3 4 5 6 7 6 5 4 3 2 1 "
          ]
        }
      ]
    },
    {
      "cell_type": "code",
      "source": [
        "# Task 8\n",
        "num = int(input())\n",
        "\n",
        "\n",
        "def show_palindromic_triangle(Num):\n",
        "    for i in range(1, Num + 1):\n",
        "        for space in range(1, Num - i + 1):\n",
        "            print(' ', end=' ')\n",
        "        for j in range(1, i + 1):\n",
        "            print(j, end=' ')\n",
        "        for k in range(i-1, 0, -1):\n",
        "            print(k, end=' ')\n",
        "        print()\n",
        "\n",
        "\n",
        "show_palindromic_triangle(num)"
      ],
      "metadata": {
        "colab": {
          "base_uri": "https://localhost:8080/"
        },
        "id": "URnJNDSKFSKp",
        "outputId": "2145f270-5397-473b-9e8a-393228861461"
      },
      "execution_count": null,
      "outputs": [
        {
          "output_type": "stream",
          "name": "stdout",
          "text": [
            "8\n",
            "              1 \n",
            "            1 2 1 \n",
            "          1 2 3 2 1 \n",
            "        1 2 3 4 3 2 1 \n",
            "      1 2 3 4 5 4 3 2 1 \n",
            "    1 2 3 4 5 6 5 4 3 2 1 \n",
            "  1 2 3 4 5 6 7 6 5 4 3 2 1 \n",
            "1 2 3 4 5 6 7 8 7 6 5 4 3 2 1 \n"
          ]
        }
      ]
    },
    {
      "cell_type": "code",
      "source": [
        "# Task 9\n",
        "import math\n",
        "\n",
        "\n",
        "def area_circumference_generator(radius):\n",
        "    List = []\n",
        "    area = math.pi * (radius ** 2)\n",
        "    List.append(area)\n",
        "    circumference = math.pi * 2 * radius\n",
        "    List.append(circumference)\n",
        "    Tuple = tuple(List)\n",
        "    print(Tuple)\n",
        "    return Tuple\n",
        "\n",
        "\n",
        "i, j = area_circumference_generator(1)\n",
        "print(f'Area of the circle is {i}, circumference is {j}')"
      ],
      "metadata": {
        "id": "ZL8-9Am3lQIg",
        "colab": {
          "base_uri": "https://localhost:8080/"
        },
        "outputId": "452891f1-89f5-4d5b-bea4-029f64f8f7f8"
      },
      "execution_count": null,
      "outputs": [
        {
          "output_type": "stream",
          "name": "stdout",
          "text": [
            "(3.141592653589793, 6.283185307179586)\n",
            "Area of the circle is 3.141592653589793, circumference is 6.283185307179586\n"
          ]
        }
      ]
    },
    {
      "cell_type": "code",
      "source": [
        "def area_circumference_generator(radius):\n",
        "  buffer=[]\n",
        "  area=3.1416*(radius**2)\n",
        "  buffer.append(area)\n",
        "  circumference=3.1416 * 2 * radius\n",
        "  buffer.append(circumference)\n",
        "  result_tuple=tuple(buffer)\n",
        "  return result_tuple\n",
        "  print(result_tuple)\n",
        "  \n",
        "  i,j=area_circumference_generator(1)\n",
        "  print(f'Area of the circle is {i}, circumference is {j}')"
      ],
      "metadata": {
        "id": "JCZl_p9JOB7O"
      },
      "execution_count": null,
      "outputs": []
    },
    {
      "cell_type": "code",
      "source": [
        "# Task 10\n",
        "List = []\n",
        "start = int(input())\n",
        "List.append(start)\n",
        "end = int(input())\n",
        "List.append(end)\n",
        "new_tuple = tuple(List)\n",
        "\n",
        "\n",
        "def make_square(Tuple):\n",
        "    new_dict = {}\n",
        "    for i in range(Tuple[0], Tuple[1] + 1):\n",
        "        new_dict.update({i: i ** 2})\n",
        "    return new_dict\n",
        "\n",
        "\n",
        "print(make_square(new_tuple))"
      ],
      "metadata": {
        "id": "FkXPsFM4AWu1"
      },
      "execution_count": null,
      "outputs": []
    },
    {
      "cell_type": "code",
      "source": [
        "# Task 11\n",
        "def rem_duplicate(Tuple):\n",
        "    temp_list = []\n",
        "    for i in Tuple:\n",
        "        if i not in temp_list:\n",
        "            temp_list.append(i)\n",
        "        else:\n",
        "            continue\n",
        "    new_tuple = tuple(temp_list)\n",
        "    return new_tuple\n",
        "\n",
        "\n",
        "print(rem_duplicate((\"Hi\", 1, 2, 3, 3, \"Hi\", 'a', 'a', [1, 2])))"
      ],
      "metadata": {
        "id": "BYigO8_SFPqZ",
        "outputId": "ee199ae8-3699-45e0-cb25-9254594c8a0c",
        "colab": {
          "base_uri": "https://localhost:8080/"
        }
      },
      "execution_count": null,
      "outputs": [
        {
          "output_type": "stream",
          "name": "stdout",
          "text": [
            "('Hi', 1, 2, 3, 'a', [1, 2])\n"
          ]
        }
      ]
    },
    {
      "cell_type": "code",
      "source": [
        "# Task 12\n",
        "def make_list(List):\n",
        "    new_list = []\n",
        "    remove = 0\n",
        "    for i in range(len(List)):\n",
        "        if List[i] not in new_list:\n",
        "            new_list.append(List[i])\n",
        "        else:\n",
        "            if new_list.count(List[i]) == 2:\n",
        "                remove += 1\n",
        "                continue\n",
        "            else:\n",
        "                new_list.append(List[i])\n",
        "    return remove, new_list\n",
        "\n",
        "\n",
        "k, l = make_list([1, 2, 3, 3, 3, 3, 4, 5, 8, 8])\n",
        "print(f'Removed: {k}')\n",
        "print(l)"
      ],
      "metadata": {
        "id": "CqAE3SWpDH5C"
      },
      "execution_count": null,
      "outputs": []
    },
    {
      "cell_type": "code",
      "source": [
        "# Task 13\n",
        "operate = input()\n",
        "first_num = int(input())\n",
        "second_num = int(input())\n",
        "\n",
        "\n",
        "def calculation(operator, num1, num2):\n",
        "    if operator == '+':\n",
        "        result = num1 + num2\n",
        "    elif operator == '-':\n",
        "        result = num1 - num2\n",
        "    elif operator == \"*\":\n",
        "        result = num1 * num2\n",
        "    elif operator == \"/\":\n",
        "        result = num1 / num2\n",
        "    return result\n",
        "\n",
        "\n",
        "print(calculation(operate, first_num, second_num))"
      ],
      "metadata": {
        "id": "GYcA156KoLOF"
      },
      "execution_count": null,
      "outputs": []
    },
    {
      "cell_type": "code",
      "source": [
        "# Task 14\n",
        "sentence = input()\n",
        "pos = int(input())\n",
        "\n",
        "\n",
        "def remove_add_chr(Sentence, position):\n",
        "    removed_letter = ''\n",
        "    remained_letter = ''\n",
        "    remained_letter += Sentence[0]\n",
        "    for i in range(1, len(Sentence)):\n",
        "        if i % position == 0:\n",
        "            removed_letter += Sentence[i]\n",
        "        else:\n",
        "            remained_letter += Sentence[i]\n",
        "    together = remained_letter + removed_letter\n",
        "    return together\n",
        "\n",
        "\n",
        "result = remove_add_chr(sentence, pos)\n",
        "print(result)"
      ],
      "metadata": {
        "id": "zwrRBWBX0Fxk",
        "outputId": "8f6bf007-bb4d-4530-882e-f005cb4bd478",
        "colab": {
          "base_uri": "https://localhost:8080/"
        }
      },
      "execution_count": null,
      "outputs": [
        {
          "output_type": "stream",
          "name": "stdout",
          "text": [
            "hello there\n",
            "2\n",
            "hel hrlotee\n"
          ]
        }
      ]
    },
    {
      "cell_type": "code",
      "source": [
        "# Task 15\n",
        "item = input()\n",
        "a = item[1:len(item) - 1]\n",
        "item_list = a.split(\", \")\n",
        "print(item_list)\n",
        "location = 'Dhanmondi'\n",
        "\n",
        "\n",
        "def total_payment(order_item, Location):\n",
        "    total = 0\n",
        "    if Location == 'Dhanmondi':\n",
        "        total += 30\n",
        "    else:\n",
        "        total += 70\n",
        "    dict = {'Rice': 105, 'Potato': 20, 'Chicken': 250, 'Beef': 510, 'Oil': 85}\n",
        "    for i in order_item:\n",
        "        if i in dict.keys():\n",
        "            total += dict[i]\n",
        "    return total\n",
        "\n",
        "\n",
        "print(total_payment(item_list, location))"
      ],
      "metadata": {
        "id": "GUwD0_o40H1K"
      },
      "execution_count": null,
      "outputs": []
    }
  ]
}